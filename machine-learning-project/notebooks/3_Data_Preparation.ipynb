{
 "cells": [
  {
   "cell_type": "markdown",
   "id": "37a3e979-54a0-4217-a395-e4a966052d7c",
   "metadata": {},
   "source": [
    "# Data Preparation\n",
    "\n",
    "Tareas por realizar en la etapa de preparacion:\n",
    "\n",
    "- Seleccion de datos relevantes\n",
    "- limpieza de los datos (missing values, outliers)\n",
    "- Construir nuevas variables (feature engineering)\n",
    "- Integrar datos de múltiples fuentes\n",
    "- Formatear y transformar datos"
   ]
  },
  {
   "cell_type": "code",
   "execution_count": 1,
   "id": "b455ec05-6b53-4f8a-bafe-1de7c1312aec",
   "metadata": {},
   "outputs": [
    {
     "ename": "NameError",
     "evalue": "name 'df' is not defined",
     "output_type": "error",
     "traceback": [
      "\u001b[31m---------------------------------------------------------------------------\u001b[39m",
      "\u001b[31mNameError\u001b[39m                                 Traceback (most recent call last)",
      "\u001b[36mCell\u001b[39m\u001b[36m \u001b[39m\u001b[32mIn[1]\u001b[39m\u001b[32m, line 2\u001b[39m\n\u001b[32m      1\u001b[39m \u001b[38;5;66;03m#Verificar si es necesario respaldo o se usa un pipelie\u001b[39;00m\n\u001b[32m----> \u001b[39m\u001b[32m2\u001b[39m df_backup = \u001b[43mdf\u001b[49m.copy()\n",
      "\u001b[31mNameError\u001b[39m: name 'df' is not defined"
     ]
    }
   ],
   "source": [
    "#Verificar si es necesario respaldo o se usa un pipelie\n",
    "df_backup = df.copy()\n"
   ]
  },
  {
   "cell_type": "markdown",
   "id": "1320dd96-e3ad-4222-9795-e8ff53404d8a",
   "metadata": {},
   "source": [
    "### **Columnas eliminadas**\n",
    "\n",
    "Identificadores / texto libre / URLs:\n",
    "ID, Name, Photo, Flag, Club Logo, Player URL (si existe).\n",
    "No aportan al rendimiento ni al precio y pueden sobre‐ajustar."
   ]
  },
  {
   "cell_type": "markdown",
   "id": "65b298b0-792b-4d36-8af8-625034d19c74",
   "metadata": {},
   "source": [
    "Marking es la capacidad de marcar o defender del jugador, por lo que es una caracteristica que solo lo tienen jugadores de cierta posicion defensiva, por lo que al ser una variable que influye, se le ingresara valores cero a los datos nulos "
   ]
  },
  {
   "cell_type": "markdown",
   "id": "3c4773ae-a809-43f9-989b-d3a4ffb1a797",
   "metadata": {},
   "source": [
    "Columnas redudantes o repetitivas\n",
    "Release Clause\n",
    "Best Overall Rating"
   ]
  },
  {
   "cell_type": "code",
   "execution_count": null,
   "id": "f774bef5-1e9b-475b-9160-ee6a2863affc",
   "metadata": {},
   "outputs": [],
   "source": []
  },
  {
   "cell_type": "code",
   "execution_count": null,
   "id": "0c45e232-5d5f-4cb4-9879-eed5f1121bee",
   "metadata": {},
   "outputs": [],
   "source": [
    "FIFA22_df['Marking'].fillna(0, inplace=True)"
   ]
  },
  {
   "cell_type": "markdown",
   "id": "410b610d-6cd4-4db8-8ea3-556de8412130",
   "metadata": {},
   "source": [
    "#### **Eliminación de datos atipicos** (outliers)"
   ]
  },
  {
   "cell_type": "code",
   "execution_count": null,
   "id": "67bf2b79-0041-4ee0-ab29-2fdc7cecb60a",
   "metadata": {},
   "outputs": [],
   "source": [
    "# Eliminando datos atipicos mayores a 28 de la culumna Asesinatos en la partida\n",
    "#EJEMPLO\n",
    "FIFA22_df.drop(FIFA22_df[FIFA22_df['MatchKills'] > 28].index, inplace=True)\n",
    "FIFA22_df.shape"
   ]
  },
  {
   "cell_type": "markdown",
   "id": "ac4f1d00-a79d-4b16-87b8-45d79dc65b05",
   "metadata": {},
   "source": [
    "#### **Integrar datos de múltiples fuentes**"
   ]
  }
 ],
 "metadata": {
  "kernelspec": {
   "display_name": "Python 3 (ipykernel)",
   "language": "python",
   "name": "python3"
  },
  "language_info": {
   "codemirror_mode": {
    "name": "ipython",
    "version": 3
   },
   "file_extension": ".py",
   "mimetype": "text/x-python",
   "name": "python",
   "nbconvert_exporter": "python",
   "pygments_lexer": "ipython3",
   "version": "3.11.9"
  }
 },
 "nbformat": 4,
 "nbformat_minor": 5
}
