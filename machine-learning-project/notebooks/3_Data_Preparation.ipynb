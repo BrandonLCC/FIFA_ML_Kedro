{
 "cells": [
  {
   "cell_type": "markdown",
   "id": "37a3e979-54a0-4217-a395-e4a966052d7c",
   "metadata": {},
   "source": [
    "# Data Preparation\n",
    "\n",
    "Tareas por realizar en la etapa de preparacion:\n",
    "\n",
    "- Seleccion de datos relevantes\n",
    "- limpieza de los datos (missing values, outliers)\n",
    "- Construir nuevas variables (feature engineering)\n",
    "- Integrar datos de múltiples fuentes\n",
    "- Formatear y transformar datos"
   ]
  },
  {
   "cell_type": "code",
   "execution_count": 1,
   "id": "a7c44c0f-c9d3-41f1-925a-7f11d98b2460",
   "metadata": {},
   "outputs": [
    {
     "data": {
      "text/html": [
       "<pre style=\"white-space:pre;overflow-x:auto;line-height:normal;font-family:Menlo,'DejaVu Sans Mono',consolas,'Courier New',monospace\"><span style=\"color: #7fbfbf; text-decoration-color: #7fbfbf\">[09/16/25 22:59:34] </span><span style=\"color: #000080; text-decoration-color: #000080\">INFO    </span> Using                                                                  <a href=\"file://C:\\Users\\brand\\Downloads\\Proyecto_ML_Kedro\\machine-learning-project\\.venv\\Lib\\site-packages\\kedro\\framework\\project\\__init__.py\" target=\"_blank\"><span style=\"color: #7f7f7f; text-decoration-color: #7f7f7f\">__init__.py</span></a><span style=\"color: #7f7f7f; text-decoration-color: #7f7f7f\">:</span><a href=\"file://C:\\Users\\brand\\Downloads\\Proyecto_ML_Kedro\\machine-learning-project\\.venv\\Lib\\site-packages\\kedro\\framework\\project\\__init__.py#270\" target=\"_blank\"><span style=\"color: #7f7f7f; text-decoration-color: #7f7f7f\">270</span></a>\n",
       "<span style=\"color: #7fbfbf; text-decoration-color: #7fbfbf\">                    </span>         <span style=\"color: #008000; text-decoration-color: #008000\">'C:\\Users\\brand\\Downloads\\Proyecto_ML_Kedro\\machine-learning-project\\.</span> <span style=\"color: #7f7f7f; text-decoration-color: #7f7f7f\">               </span>\n",
       "<span style=\"color: #7fbfbf; text-decoration-color: #7fbfbf\">                    </span>         <span style=\"color: #008000; text-decoration-color: #008000\">venv\\Lib\\site-packages\\kedro\\framework\\project\\rich_logging.yml'</span> as    <span style=\"color: #7f7f7f; text-decoration-color: #7f7f7f\">               </span>\n",
       "<span style=\"color: #7fbfbf; text-decoration-color: #7fbfbf\">                    </span>         logging configuration.                                                 <span style=\"color: #7f7f7f; text-decoration-color: #7f7f7f\">               </span>\n",
       "</pre>\n"
      ],
      "text/plain": [
       "\u001b[2;36m[09/16/25 22:59:34]\u001b[0m\u001b[2;36m \u001b[0m\u001b[34mINFO    \u001b[0m Using                                                                  \u001b]8;id=194841;file://C:\\Users\\brand\\Downloads\\Proyecto_ML_Kedro\\machine-learning-project\\.venv\\Lib\\site-packages\\kedro\\framework\\project\\__init__.py\u001b\\\u001b[2m__init__.py\u001b[0m\u001b]8;;\u001b\\\u001b[2m:\u001b[0m\u001b]8;id=474339;file://C:\\Users\\brand\\Downloads\\Proyecto_ML_Kedro\\machine-learning-project\\.venv\\Lib\\site-packages\\kedro\\framework\\project\\__init__.py#270\u001b\\\u001b[2m270\u001b[0m\u001b]8;;\u001b\\\n",
       "\u001b[2;36m                    \u001b[0m         \u001b[32m'C:\\Users\\brand\\Downloads\\Proyecto_ML_Kedro\\machine-learning-project\\.\u001b[0m \u001b[2m               \u001b[0m\n",
       "\u001b[2;36m                    \u001b[0m         \u001b[32mvenv\\Lib\\site-packages\\kedro\\framework\\project\\rich_logging.yml'\u001b[0m as    \u001b[2m               \u001b[0m\n",
       "\u001b[2;36m                    \u001b[0m         logging configuration.                                                 \u001b[2m               \u001b[0m\n"
      ]
     },
     "metadata": {},
     "output_type": "display_data"
    },
    {
     "data": {
      "text/html": [
       "<pre style=\"white-space:pre;overflow-x:auto;line-height:normal;font-family:Menlo,'DejaVu Sans Mono',consolas,'Courier New',monospace\"><span style=\"color: #7fbfbf; text-decoration-color: #7fbfbf\">                    </span><span style=\"color: #000080; text-decoration-color: #000080\">INFO    </span> Registered line magic <span style=\"color: #008000; text-decoration-color: #008000\">'%reload_kedro'</span>                                   <a href=\"file://C:\\Users\\brand\\Downloads\\Proyecto_ML_Kedro\\machine-learning-project\\.venv\\Lib\\site-packages\\kedro\\ipython\\__init__.py\" target=\"_blank\"><span style=\"color: #7f7f7f; text-decoration-color: #7f7f7f\">__init__.py</span></a><span style=\"color: #7f7f7f; text-decoration-color: #7f7f7f\">:</span><a href=\"file://C:\\Users\\brand\\Downloads\\Proyecto_ML_Kedro\\machine-learning-project\\.venv\\Lib\\site-packages\\kedro\\ipython\\__init__.py#63\" target=\"_blank\"><span style=\"color: #7f7f7f; text-decoration-color: #7f7f7f\">63</span></a>\n",
       "</pre>\n"
      ],
      "text/plain": [
       "\u001b[2;36m                   \u001b[0m\u001b[2;36m \u001b[0m\u001b[34mINFO    \u001b[0m Registered line magic \u001b[32m'%reload_kedro'\u001b[0m                                   \u001b]8;id=813836;file://C:\\Users\\brand\\Downloads\\Proyecto_ML_Kedro\\machine-learning-project\\.venv\\Lib\\site-packages\\kedro\\ipython\\__init__.py\u001b\\\u001b[2m__init__.py\u001b[0m\u001b]8;;\u001b\\\u001b[2m:\u001b[0m\u001b]8;id=343473;file://C:\\Users\\brand\\Downloads\\Proyecto_ML_Kedro\\machine-learning-project\\.venv\\Lib\\site-packages\\kedro\\ipython\\__init__.py#63\u001b\\\u001b[2m63\u001b[0m\u001b]8;;\u001b\\\n"
      ]
     },
     "metadata": {},
     "output_type": "display_data"
    },
    {
     "data": {
      "text/html": [
       "<pre style=\"white-space:pre;overflow-x:auto;line-height:normal;font-family:Menlo,'DejaVu Sans Mono',consolas,'Courier New',monospace\"><span style=\"color: #7fbfbf; text-decoration-color: #7fbfbf\">                    </span><span style=\"color: #000080; text-decoration-color: #000080\">INFO    </span> Registered line magic <span style=\"color: #008000; text-decoration-color: #008000\">'%load_node'</span>                                      <a href=\"file://C:\\Users\\brand\\Downloads\\Proyecto_ML_Kedro\\machine-learning-project\\.venv\\Lib\\site-packages\\kedro\\ipython\\__init__.py\" target=\"_blank\"><span style=\"color: #7f7f7f; text-decoration-color: #7f7f7f\">__init__.py</span></a><span style=\"color: #7f7f7f; text-decoration-color: #7f7f7f\">:</span><a href=\"file://C:\\Users\\brand\\Downloads\\Proyecto_ML_Kedro\\machine-learning-project\\.venv\\Lib\\site-packages\\kedro\\ipython\\__init__.py#65\" target=\"_blank\"><span style=\"color: #7f7f7f; text-decoration-color: #7f7f7f\">65</span></a>\n",
       "</pre>\n"
      ],
      "text/plain": [
       "\u001b[2;36m                   \u001b[0m\u001b[2;36m \u001b[0m\u001b[34mINFO    \u001b[0m Registered line magic \u001b[32m'%load_node'\u001b[0m                                      \u001b]8;id=658319;file://C:\\Users\\brand\\Downloads\\Proyecto_ML_Kedro\\machine-learning-project\\.venv\\Lib\\site-packages\\kedro\\ipython\\__init__.py\u001b\\\u001b[2m__init__.py\u001b[0m\u001b]8;;\u001b\\\u001b[2m:\u001b[0m\u001b]8;id=781712;file://C:\\Users\\brand\\Downloads\\Proyecto_ML_Kedro\\machine-learning-project\\.venv\\Lib\\site-packages\\kedro\\ipython\\__init__.py#65\u001b\\\u001b[2m65\u001b[0m\u001b]8;;\u001b\\\n"
      ]
     },
     "metadata": {},
     "output_type": "display_data"
    },
    {
     "data": {
      "text/html": [
       "<pre style=\"white-space:pre;overflow-x:auto;line-height:normal;font-family:Menlo,'DejaVu Sans Mono',consolas,'Courier New',monospace\"><span style=\"color: #7fbfbf; text-decoration-color: #7fbfbf\">                    </span><span style=\"color: #000080; text-decoration-color: #000080\">INFO    </span> Resolved project path as:                                              <a href=\"file://C:\\Users\\brand\\Downloads\\Proyecto_ML_Kedro\\machine-learning-project\\.venv\\Lib\\site-packages\\kedro\\ipython\\__init__.py\" target=\"_blank\"><span style=\"color: #7f7f7f; text-decoration-color: #7f7f7f\">__init__.py</span></a><span style=\"color: #7f7f7f; text-decoration-color: #7f7f7f\">:</span><a href=\"file://C:\\Users\\brand\\Downloads\\Proyecto_ML_Kedro\\machine-learning-project\\.venv\\Lib\\site-packages\\kedro\\ipython\\__init__.py#180\" target=\"_blank\"><span style=\"color: #7f7f7f; text-decoration-color: #7f7f7f\">180</span></a>\n",
       "<span style=\"color: #7fbfbf; text-decoration-color: #7fbfbf\">                    </span>         C:\\Users\\brand\\Downloads\\Proyecto_ML_Kedro\\machine-learning-project.   <span style=\"color: #7f7f7f; text-decoration-color: #7f7f7f\">               </span>\n",
       "<span style=\"color: #7fbfbf; text-decoration-color: #7fbfbf\">                    </span>         To set a different path, run <span style=\"color: #008000; text-decoration-color: #008000\">'%reload_kedro &lt;project_root&gt;'</span>            <span style=\"color: #7f7f7f; text-decoration-color: #7f7f7f\">               </span>\n",
       "</pre>\n"
      ],
      "text/plain": [
       "\u001b[2;36m                   \u001b[0m\u001b[2;36m \u001b[0m\u001b[34mINFO    \u001b[0m Resolved project path as:                                              \u001b]8;id=644660;file://C:\\Users\\brand\\Downloads\\Proyecto_ML_Kedro\\machine-learning-project\\.venv\\Lib\\site-packages\\kedro\\ipython\\__init__.py\u001b\\\u001b[2m__init__.py\u001b[0m\u001b]8;;\u001b\\\u001b[2m:\u001b[0m\u001b]8;id=244478;file://C:\\Users\\brand\\Downloads\\Proyecto_ML_Kedro\\machine-learning-project\\.venv\\Lib\\site-packages\\kedro\\ipython\\__init__.py#180\u001b\\\u001b[2m180\u001b[0m\u001b]8;;\u001b\\\n",
       "\u001b[2;36m                    \u001b[0m         C:\\Users\\brand\\Downloads\\Proyecto_ML_Kedro\\machine-learning-project.   \u001b[2m               \u001b[0m\n",
       "\u001b[2;36m                    \u001b[0m         To set a different path, run \u001b[32m'%reload_kedro \u001b[0m\u001b[32m<\u001b[0m\u001b[32mproject_root\u001b[0m\u001b[32m>\u001b[0m\u001b[32m'\u001b[0m            \u001b[2m               \u001b[0m\n"
      ]
     },
     "metadata": {},
     "output_type": "display_data"
    },
    {
     "data": {
      "text/html": [
       "<pre style=\"white-space:pre;overflow-x:auto;line-height:normal;font-family:Menlo,'DejaVu Sans Mono',consolas,'Courier New',monospace\"><span style=\"color: #7fbfbf; text-decoration-color: #7fbfbf\">[09/16/25 22:59:37] </span><span style=\"color: #000080; text-decoration-color: #000080\">INFO    </span> Kedro is sending anonymous usage data with the sole purpose of improving <a href=\"file://C:\\Users\\brand\\Downloads\\Proyecto_ML_Kedro\\machine-learning-project\\.venv\\Lib\\site-packages\\kedro_telemetry\\plugin.py\" target=\"_blank\"><span style=\"color: #7f7f7f; text-decoration-color: #7f7f7f\">plugin.py</span></a><span style=\"color: #7f7f7f; text-decoration-color: #7f7f7f\">:</span><a href=\"file://C:\\Users\\brand\\Downloads\\Proyecto_ML_Kedro\\machine-learning-project\\.venv\\Lib\\site-packages\\kedro_telemetry\\plugin.py#243\" target=\"_blank\"><span style=\"color: #7f7f7f; text-decoration-color: #7f7f7f\">243</span></a>\n",
       "<span style=\"color: #7fbfbf; text-decoration-color: #7fbfbf\">                    </span>         the product. No personal data or IP addresses are stored on our side. To <span style=\"color: #7f7f7f; text-decoration-color: #7f7f7f\">             </span>\n",
       "<span style=\"color: #7fbfbf; text-decoration-color: #7fbfbf\">                    </span>         opt out, set the `KEDRO_DISABLE_TELEMETRY` or `DO_NOT_TRACK` environment <span style=\"color: #7f7f7f; text-decoration-color: #7f7f7f\">             </span>\n",
       "<span style=\"color: #7fbfbf; text-decoration-color: #7fbfbf\">                    </span>         variables, or create a `.telemetry` file in the current working          <span style=\"color: #7f7f7f; text-decoration-color: #7f7f7f\">             </span>\n",
       "<span style=\"color: #7fbfbf; text-decoration-color: #7fbfbf\">                    </span>         directory with the contents `consent: false`. To hide this message,      <span style=\"color: #7f7f7f; text-decoration-color: #7f7f7f\">             </span>\n",
       "<span style=\"color: #7fbfbf; text-decoration-color: #7fbfbf\">                    </span>         explicitly grant or deny consent. Read more at                           <span style=\"color: #7f7f7f; text-decoration-color: #7f7f7f\">             </span>\n",
       "<span style=\"color: #7fbfbf; text-decoration-color: #7fbfbf\">                    </span>         <span style=\"color: #0000ff; text-decoration-color: #0000ff; text-decoration: underline\">https://docs.kedro.org/en/stable/configuration/telemetry.html</span>            <span style=\"color: #7f7f7f; text-decoration-color: #7f7f7f\">             </span>\n",
       "</pre>\n"
      ],
      "text/plain": [
       "\u001b[2;36m[09/16/25 22:59:37]\u001b[0m\u001b[2;36m \u001b[0m\u001b[34mINFO    \u001b[0m Kedro is sending anonymous usage data with the sole purpose of improving \u001b]8;id=573888;file://C:\\Users\\brand\\Downloads\\Proyecto_ML_Kedro\\machine-learning-project\\.venv\\Lib\\site-packages\\kedro_telemetry\\plugin.py\u001b\\\u001b[2mplugin.py\u001b[0m\u001b]8;;\u001b\\\u001b[2m:\u001b[0m\u001b]8;id=316184;file://C:\\Users\\brand\\Downloads\\Proyecto_ML_Kedro\\machine-learning-project\\.venv\\Lib\\site-packages\\kedro_telemetry\\plugin.py#243\u001b\\\u001b[2m243\u001b[0m\u001b]8;;\u001b\\\n",
       "\u001b[2;36m                    \u001b[0m         the product. No personal data or IP addresses are stored on our side. To \u001b[2m             \u001b[0m\n",
       "\u001b[2;36m                    \u001b[0m         opt out, set the `KEDRO_DISABLE_TELEMETRY` or `DO_NOT_TRACK` environment \u001b[2m             \u001b[0m\n",
       "\u001b[2;36m                    \u001b[0m         variables, or create a `.telemetry` file in the current working          \u001b[2m             \u001b[0m\n",
       "\u001b[2;36m                    \u001b[0m         directory with the contents `consent: false`. To hide this message,      \u001b[2m             \u001b[0m\n",
       "\u001b[2;36m                    \u001b[0m         explicitly grant or deny consent. Read more at                           \u001b[2m             \u001b[0m\n",
       "\u001b[2;36m                    \u001b[0m         \u001b[4;94mhttps://docs.kedro.org/en/stable/configuration/telemetry.html\u001b[0m            \u001b[2m             \u001b[0m\n"
      ]
     },
     "metadata": {},
     "output_type": "display_data"
    },
    {
     "data": {
      "text/html": [
       "<pre style=\"white-space:pre;overflow-x:auto;line-height:normal;font-family:Menlo,'DejaVu Sans Mono',consolas,'Courier New',monospace\"><span style=\"color: #7fbfbf; text-decoration-color: #7fbfbf\">[09/16/25 22:59:39] </span><span style=\"color: #000080; text-decoration-color: #000080\">INFO    </span> Kedro project machine_learning_project                                 <a href=\"file://C:\\Users\\brand\\Downloads\\Proyecto_ML_Kedro\\machine-learning-project\\.venv\\Lib\\site-packages\\kedro\\ipython\\__init__.py\" target=\"_blank\"><span style=\"color: #7f7f7f; text-decoration-color: #7f7f7f\">__init__.py</span></a><span style=\"color: #7f7f7f; text-decoration-color: #7f7f7f\">:</span><a href=\"file://C:\\Users\\brand\\Downloads\\Proyecto_ML_Kedro\\machine-learning-project\\.venv\\Lib\\site-packages\\kedro\\ipython\\__init__.py#146\" target=\"_blank\"><span style=\"color: #7f7f7f; text-decoration-color: #7f7f7f\">146</span></a>\n",
       "</pre>\n"
      ],
      "text/plain": [
       "\u001b[2;36m[09/16/25 22:59:39]\u001b[0m\u001b[2;36m \u001b[0m\u001b[34mINFO    \u001b[0m Kedro project machine_learning_project                                 \u001b]8;id=360340;file://C:\\Users\\brand\\Downloads\\Proyecto_ML_Kedro\\machine-learning-project\\.venv\\Lib\\site-packages\\kedro\\ipython\\__init__.py\u001b\\\u001b[2m__init__.py\u001b[0m\u001b]8;;\u001b\\\u001b[2m:\u001b[0m\u001b]8;id=993808;file://C:\\Users\\brand\\Downloads\\Proyecto_ML_Kedro\\machine-learning-project\\.venv\\Lib\\site-packages\\kedro\\ipython\\__init__.py#146\u001b\\\u001b[2m146\u001b[0m\u001b]8;;\u001b\\\n"
      ]
     },
     "metadata": {},
     "output_type": "display_data"
    },
    {
     "data": {
      "text/html": [
       "<pre style=\"white-space:pre;overflow-x:auto;line-height:normal;font-family:Menlo,'DejaVu Sans Mono',consolas,'Courier New',monospace\"><span style=\"color: #7fbfbf; text-decoration-color: #7fbfbf\">                    </span><span style=\"color: #000080; text-decoration-color: #000080\">INFO    </span> Defined global variable <span style=\"color: #008000; text-decoration-color: #008000\">'context'</span>, <span style=\"color: #008000; text-decoration-color: #008000\">'session'</span>, <span style=\"color: #008000; text-decoration-color: #008000\">'catalog'</span> and            <a href=\"file://C:\\Users\\brand\\Downloads\\Proyecto_ML_Kedro\\machine-learning-project\\.venv\\Lib\\site-packages\\kedro\\ipython\\__init__.py\" target=\"_blank\"><span style=\"color: #7f7f7f; text-decoration-color: #7f7f7f\">__init__.py</span></a><span style=\"color: #7f7f7f; text-decoration-color: #7f7f7f\">:</span><a href=\"file://C:\\Users\\brand\\Downloads\\Proyecto_ML_Kedro\\machine-learning-project\\.venv\\Lib\\site-packages\\kedro\\ipython\\__init__.py#147\" target=\"_blank\"><span style=\"color: #7f7f7f; text-decoration-color: #7f7f7f\">147</span></a>\n",
       "<span style=\"color: #7fbfbf; text-decoration-color: #7fbfbf\">                    </span>         <span style=\"color: #008000; text-decoration-color: #008000\">'pipelines'</span>                                                            <span style=\"color: #7f7f7f; text-decoration-color: #7f7f7f\">               </span>\n",
       "</pre>\n"
      ],
      "text/plain": [
       "\u001b[2;36m                   \u001b[0m\u001b[2;36m \u001b[0m\u001b[34mINFO    \u001b[0m Defined global variable \u001b[32m'context'\u001b[0m, \u001b[32m'session'\u001b[0m, \u001b[32m'catalog'\u001b[0m and            \u001b]8;id=91319;file://C:\\Users\\brand\\Downloads\\Proyecto_ML_Kedro\\machine-learning-project\\.venv\\Lib\\site-packages\\kedro\\ipython\\__init__.py\u001b\\\u001b[2m__init__.py\u001b[0m\u001b]8;;\u001b\\\u001b[2m:\u001b[0m\u001b]8;id=694734;file://C:\\Users\\brand\\Downloads\\Proyecto_ML_Kedro\\machine-learning-project\\.venv\\Lib\\site-packages\\kedro\\ipython\\__init__.py#147\u001b\\\u001b[2m147\u001b[0m\u001b]8;;\u001b\\\n",
       "\u001b[2;36m                    \u001b[0m         \u001b[32m'pipelines'\u001b[0m                                                            \u001b[2m               \u001b[0m\n"
      ]
     },
     "metadata": {},
     "output_type": "display_data"
    },
    {
     "data": {
      "text/html": [
       "<pre style=\"white-space:pre;overflow-x:auto;line-height:normal;font-family:Menlo,'DejaVu Sans Mono',consolas,'Courier New',monospace\"></pre>\n"
      ],
      "text/plain": []
     },
     "metadata": {},
     "output_type": "display_data"
    },
    {
     "data": {
      "text/plain": [
       "\n",
       "\u001b[1m[\u001b[0m\n",
       "    \u001b[32m'DataSetFIFA22'\u001b[0m,\n",
       "    \u001b[32m'DataSetFIFA21'\u001b[0m,\n",
       "    \u001b[32m'DataSetFIFA20'\u001b[0m,\n",
       "    \u001b[32m'preprocess_fifa_22'\u001b[0m,\n",
       "    \u001b[32m'preprocess_fifa_21'\u001b[0m,\n",
       "    \u001b[32m'preprocess_fifa_20'\u001b[0m,\n",
       "    \u001b[32m'parameters'\u001b[0m\n",
       "\u001b[1m]\u001b[0m"
      ]
     },
     "execution_count": 1,
     "metadata": {},
     "output_type": "execute_result"
    }
   ],
   "source": [
    "%load_ext kedro.ipython \n",
    "catalog.keys()"
   ]
  },
  {
   "cell_type": "code",
   "execution_count": 2,
   "id": "478f469a-6ef7-40f1-8dbb-f462c851c1d6",
   "metadata": {},
   "outputs": [
    {
     "data": {
      "text/html": [
       "<pre style=\"white-space:pre;overflow-x:auto;line-height:normal;font-family:Menlo,'DejaVu Sans Mono',consolas,'Courier New',monospace\"><span style=\"color: #7fbfbf; text-decoration-color: #7fbfbf\">[09/16/25 22:59:40] </span><span style=\"color: #000080; text-decoration-color: #000080\">INFO    </span> Loading data from <span style=\"color: #ff8700; text-decoration-color: #ff8700\">DataSetFIFA22</span> <span style=\"font-weight: bold\">(</span>CSVDataset<span style=\"font-weight: bold\">)</span><span style=\"color: #808000; text-decoration-color: #808000\">...</span>                   <a href=\"file://C:\\Users\\brand\\Downloads\\Proyecto_ML_Kedro\\machine-learning-project\\.venv\\Lib\\site-packages\\kedro\\io\\data_catalog.py\" target=\"_blank\"><span style=\"color: #7f7f7f; text-decoration-color: #7f7f7f\">data_catalog.py</span></a><span style=\"color: #7f7f7f; text-decoration-color: #7f7f7f\">:</span><a href=\"file://C:\\Users\\brand\\Downloads\\Proyecto_ML_Kedro\\machine-learning-project\\.venv\\Lib\\site-packages\\kedro\\io\\data_catalog.py#1046\" target=\"_blank\"><span style=\"color: #7f7f7f; text-decoration-color: #7f7f7f\">1046</span></a>\n",
       "</pre>\n"
      ],
      "text/plain": [
       "\u001b[2;36m[09/16/25 22:59:40]\u001b[0m\u001b[2;36m \u001b[0m\u001b[34mINFO    \u001b[0m Loading data from \u001b[38;5;208mDataSetFIFA22\u001b[0m \u001b[1m(\u001b[0mCSVDataset\u001b[1m)\u001b[0m\u001b[33m...\u001b[0m                   \u001b]8;id=181219;file://C:\\Users\\brand\\Downloads\\Proyecto_ML_Kedro\\machine-learning-project\\.venv\\Lib\\site-packages\\kedro\\io\\data_catalog.py\u001b\\\u001b[2mdata_catalog.py\u001b[0m\u001b]8;;\u001b\\\u001b[2m:\u001b[0m\u001b]8;id=214833;file://C:\\Users\\brand\\Downloads\\Proyecto_ML_Kedro\\machine-learning-project\\.venv\\Lib\\site-packages\\kedro\\io\\data_catalog.py#1046\u001b\\\u001b[2m1046\u001b[0m\u001b]8;;\u001b\\\n"
      ]
     },
     "metadata": {},
     "output_type": "display_data"
    },
    {
     "data": {
      "text/html": [
       "<pre style=\"white-space:pre;overflow-x:auto;line-height:normal;font-family:Menlo,'DejaVu Sans Mono',consolas,'Courier New',monospace\"><span style=\"color: #7fbfbf; text-decoration-color: #7fbfbf\">                    </span><span style=\"color: #000080; text-decoration-color: #000080\">INFO    </span> Loading data from <span style=\"color: #ff8700; text-decoration-color: #ff8700\">DataSetFIFA21</span> <span style=\"font-weight: bold\">(</span>CSVDataset<span style=\"font-weight: bold\">)</span><span style=\"color: #808000; text-decoration-color: #808000\">...</span>                   <a href=\"file://C:\\Users\\brand\\Downloads\\Proyecto_ML_Kedro\\machine-learning-project\\.venv\\Lib\\site-packages\\kedro\\io\\data_catalog.py\" target=\"_blank\"><span style=\"color: #7f7f7f; text-decoration-color: #7f7f7f\">data_catalog.py</span></a><span style=\"color: #7f7f7f; text-decoration-color: #7f7f7f\">:</span><a href=\"file://C:\\Users\\brand\\Downloads\\Proyecto_ML_Kedro\\machine-learning-project\\.venv\\Lib\\site-packages\\kedro\\io\\data_catalog.py#1046\" target=\"_blank\"><span style=\"color: #7f7f7f; text-decoration-color: #7f7f7f\">1046</span></a>\n",
       "</pre>\n"
      ],
      "text/plain": [
       "\u001b[2;36m                   \u001b[0m\u001b[2;36m \u001b[0m\u001b[34mINFO    \u001b[0m Loading data from \u001b[38;5;208mDataSetFIFA21\u001b[0m \u001b[1m(\u001b[0mCSVDataset\u001b[1m)\u001b[0m\u001b[33m...\u001b[0m                   \u001b]8;id=193661;file://C:\\Users\\brand\\Downloads\\Proyecto_ML_Kedro\\machine-learning-project\\.venv\\Lib\\site-packages\\kedro\\io\\data_catalog.py\u001b\\\u001b[2mdata_catalog.py\u001b[0m\u001b]8;;\u001b\\\u001b[2m:\u001b[0m\u001b]8;id=58613;file://C:\\Users\\brand\\Downloads\\Proyecto_ML_Kedro\\machine-learning-project\\.venv\\Lib\\site-packages\\kedro\\io\\data_catalog.py#1046\u001b\\\u001b[2m1046\u001b[0m\u001b]8;;\u001b\\\n"
      ]
     },
     "metadata": {},
     "output_type": "display_data"
    },
    {
     "data": {
      "text/html": [
       "<pre style=\"white-space:pre;overflow-x:auto;line-height:normal;font-family:Menlo,'DejaVu Sans Mono',consolas,'Courier New',monospace\"><span style=\"color: #7fbfbf; text-decoration-color: #7fbfbf\">                    </span><span style=\"color: #000080; text-decoration-color: #000080\">INFO    </span> Loading data from <span style=\"color: #ff8700; text-decoration-color: #ff8700\">DataSetFIFA20</span> <span style=\"font-weight: bold\">(</span>CSVDataset<span style=\"font-weight: bold\">)</span><span style=\"color: #808000; text-decoration-color: #808000\">...</span>                   <a href=\"file://C:\\Users\\brand\\Downloads\\Proyecto_ML_Kedro\\machine-learning-project\\.venv\\Lib\\site-packages\\kedro\\io\\data_catalog.py\" target=\"_blank\"><span style=\"color: #7f7f7f; text-decoration-color: #7f7f7f\">data_catalog.py</span></a><span style=\"color: #7f7f7f; text-decoration-color: #7f7f7f\">:</span><a href=\"file://C:\\Users\\brand\\Downloads\\Proyecto_ML_Kedro\\machine-learning-project\\.venv\\Lib\\site-packages\\kedro\\io\\data_catalog.py#1046\" target=\"_blank\"><span style=\"color: #7f7f7f; text-decoration-color: #7f7f7f\">1046</span></a>\n",
       "</pre>\n"
      ],
      "text/plain": [
       "\u001b[2;36m                   \u001b[0m\u001b[2;36m \u001b[0m\u001b[34mINFO    \u001b[0m Loading data from \u001b[38;5;208mDataSetFIFA20\u001b[0m \u001b[1m(\u001b[0mCSVDataset\u001b[1m)\u001b[0m\u001b[33m...\u001b[0m                   \u001b]8;id=214741;file://C:\\Users\\brand\\Downloads\\Proyecto_ML_Kedro\\machine-learning-project\\.venv\\Lib\\site-packages\\kedro\\io\\data_catalog.py\u001b\\\u001b[2mdata_catalog.py\u001b[0m\u001b]8;;\u001b\\\u001b[2m:\u001b[0m\u001b]8;id=966531;file://C:\\Users\\brand\\Downloads\\Proyecto_ML_Kedro\\machine-learning-project\\.venv\\Lib\\site-packages\\kedro\\io\\data_catalog.py#1046\u001b\\\u001b[2m1046\u001b[0m\u001b]8;;\u001b\\\n"
      ]
     },
     "metadata": {},
     "output_type": "display_data"
    }
   ],
   "source": [
    "FIFA22_df = catalog.load(\"DataSetFIFA22\")\n",
    "FIFA21_df = catalog.load(\"DataSetFIFA21\")\n",
    "FIFA20_df = catalog.load(\"DataSetFIFA20\")"
   ]
  },
  {
   "cell_type": "code",
   "execution_count": 3,
   "id": "2a56e168-69ee-4357-a9f6-cd458063ddf1",
   "metadata": {},
   "outputs": [],
   "source": [
    "import numpy as np\n",
    "import pandas as pd\n",
    "import seaborn as sns\n",
    "import matplotlib.pyplot as plt"
   ]
  },
  {
   "cell_type": "markdown",
   "id": "9ef540db-da88-4e06-a195-5e8436428f8b",
   "metadata": {},
   "source": [
    "### **Seleccion de datos relevantes**"
   ]
  },
  {
   "cell_type": "markdown",
   "id": "1320dd96-e3ad-4222-9795-e8ff53404d8a",
   "metadata": {},
   "source": [
    "### **Columnas eliminadas**\n",
    "\n",
    "Identificadores / texto libre / URLs:\n",
    "ID, Name, Photo, Flag, Club Logo. No aportan "
   ]
  },
  {
   "cell_type": "code",
   "execution_count": 64,
   "id": "d96eaa65-0f55-4543-803e-bc38a42ca5e5",
   "metadata": {},
   "outputs": [],
   "source": [
    "FIFA22_df.drop(columns=['Photo'], inplace=True)\n",
    "FIFA22_df.drop(columns=['Flag'], inplace=True)\n",
    "FIFA22_df.drop(columns=['Club Logo'], inplace=True)"
   ]
  },
  {
   "cell_type": "markdown",
   "id": "65b298b0-792b-4d36-8af8-625034d19c74",
   "metadata": {},
   "source": [
    "Marking es la capacidad de marcar o defender del jugador, por lo que es una caracteristica que solo lo tienen jugadores de cierta posicion defensiva, por lo que al ser una variable que influye, se le ingresara valores cero a los datos nulos "
   ]
  },
  {
   "cell_type": "markdown",
   "id": "410b610d-6cd4-4db8-8ea3-556de8412130",
   "metadata": {},
   "source": [
    "#### **Limpieza de los datos (missing values, outliers)**"
   ]
  },
  {
   "cell_type": "code",
   "execution_count": 70,
   "id": "26a69052-6d2b-4b31-a01e-0010ef3f08c4",
   "metadata": {},
   "outputs": [
    {
     "data": {
      "text/html": [
       "<pre style=\"white-space:pre;overflow-x:auto;line-height:normal;font-family:Menlo,'DejaVu Sans Mono',consolas,'Courier New',monospace\"></pre>\n"
      ],
      "text/plain": []
     },
     "metadata": {},
     "output_type": "display_data"
    },
    {
     "data": {
      "text/plain": [
       "\u001b[1m<\u001b[0m\u001b[1;95mAxes:\u001b[0m\u001b[39m \u001b[0m\u001b[33mxlabel\u001b[0m\u001b[39m=\u001b[0m\u001b[32m'Age'\u001b[0m\u001b[1m>\u001b[0m"
      ]
     },
     "execution_count": 70,
     "metadata": {},
     "output_type": "execute_result"
    },
    {
     "data": {
      "text/html": [
       "<pre style=\"white-space:pre;overflow-x:auto;line-height:normal;font-family:Menlo,'DejaVu Sans Mono',consolas,'Courier New',monospace\"></pre>\n"
      ],
      "text/plain": []
     },
     "metadata": {},
     "output_type": "display_data"
    },
    {
     "data": {
      "image/png": "[encoded data removed]",
      "text/plain": [
       "\u001b[1m<\u001b[0m\u001b[1;95mFigure\u001b[0m\u001b[39m size 64\u001b[0m\u001b[1;36m0x480\u001b[0m\u001b[39m with \u001b[0m\u001b[1;36m1\u001b[0m\u001b[39m Axes\u001b[0m\u001b[1m>\u001b[0m"
      ]
     },
     "metadata": {},
     "output_type": "display_data"
    }
   ],
   "source": [
    "FIFA22_df.drop(FIFA22_df[FIFA22_df['Age'] >=40 ].index, inplace=True)\n",
    "FIFA22_df.shape\n",
    "sns.boxplot(x=FIFA22_df['Age'])"
   ]
  },
  {
   "cell_type": "markdown",
   "id": "736c9c92-dcd9-4d6b-b2b6-6bc498d4602e",
   "metadata": {},
   "source": [
    "#### **Feature engineering**"
   ]
  },
  {
   "cell_type": "markdown",
   "id": "7ea1c510-765a-4a84-92da-f68460218e67",
   "metadata": {},
   "source": [
    "explica el proposito\n",
    "\n",
    "Promedio de habilidades ofensivas: Con las caracteristicas del jugador ofensivo (ataque) a partir de las caracteristicas de Finishing, Dribbling y ShotPower para  crea una variable llamada Offensive_Skills O Habilidades ofensivas la cual calcula el promedio ofe\n",
    "\n",
    "Promedio de habilidades defensivas: "
   ]
  },
  {
   "cell_type": "code",
   "execution_count": 89,
   "id": "1309297d-bfb0-4c3e-a551-b13146c4dd25",
   "metadata": {},
   "outputs": [],
   "source": [
    "FIFA22_df['Offensive_Skills'] = FIFA22_df[['Finishing', 'Dribbling', 'ShotPower']].mean(axis=1)\n",
    "FIFA22_df['Defensive_Skills'] = FIFA22_df[['Marking', 'StandingTackle', 'SlidingTackle',\n",
    "                                           'Interceptions', 'Strength', 'Aggression']].mean(axis=1)\n"
   ]
  },
  {
   "cell_type": "markdown",
   "id": "ac4f1d00-a79d-4b16-87b8-45d79dc65b05",
   "metadata": {},
   "source": [
    "#### **Integrar datos de múltiples fuentes**"
   ]
  },
  {
   "cell_type": "markdown",
   "id": "423942aa-00d4-4bec-b746-a3e32871b0f8",
   "metadata": {},
   "source": [
    "#### **Formatear y transformar datos**"
   ]
  },
  {
   "cell_type": "code",
   "execution_count": 65,
   "id": "f61b4db4-4efa-46bc-b036-e2925f244583",
   "metadata": {},
   "outputs": [
    {
     "name": "stdout",
     "output_type": "stream",
     "text": [
      "0    <span class=\"pos pos18\">CAM\n",
      "1    <span class=\"pos pos11\">LDM\n",
      "2     <span class=\"pos pos24\">RS\n",
      "3    <span class=\"pos pos13\">RCM\n",
      "4      <span class=\"pos pos7\">LB\n",
      "Name: Position, dtype: object\n"
     ]
    }
   ],
   "source": [
    "print(FIFA22_df[\"Position\"].head())"
   ]
  },
  {
   "cell_type": "code",
   "execution_count": 67,
   "id": "cf353597-d6c8-4d47-9cab-9788b738262a",
   "metadata": {},
   "outputs": [
    {
     "name": "stdout",
     "output_type": "stream",
     "text": [
      "['CAM' 'LDM' 'RS' 'RCM' 'LB' 'RDM' 'LCM' 'SUB' 'LS' 'RM' 'LCB' 'LM' 'RB'\n",
      " 'CDM' 'RW' 'LW' 'ST' 'CM' 'RF' 'LWB' 'RAM' 'CF' 'RES' 'LF' 'RWB' 'CB'\n",
      " 'RCB' nan 'LAM' 'GK']\n",
      "0    CAM\n",
      "1    LDM\n",
      "2     RS\n",
      "3    RCM\n",
      "4     LB\n",
      "Name: Position, dtype: object\n"
     ]
    }
   ],
   "source": [
    "# Tomar los últimos 3 caracteres y eliminar espacios\n",
    "FIFA22_df[\"Position\"] = FIFA22_df[\"Position\"].str[-3:].str.strip()\n",
    "FIFA22_df[\"Position\"] = FIFA22_df[\"Position\"].str.replace(\">\", \"\", regex=False).str[-3:]\n",
    "\n",
    "print(FIFA22_df[\"Position\"].unique())\n",
    "print(FIFA22_df[\"Position\"].head())"
   ]
  },
  {
   "cell_type": "markdown",
   "id": "4c013c28-7230-45b6-a0f0-dad7a714a145",
   "metadata": {},
   "source": [
    "Eliminar el formato de de **Value**, **Wage** y **Release Clause**"
   ]
  },
  {
   "cell_type": "code",
   "execution_count": 78,
   "id": "bc6f6f07-f481-4eba-bd37-2c555bf82a5b",
   "metadata": {},
   "outputs": [
    {
     "name": "stdout",
     "output_type": "stream",
     "text": [
      "Created Value_num from Value - non-null: 16349\n",
      "Created Wage_num from Wage - non-null: 14272\n",
      "Created Release Clause_num from Release Clause - non-null: 14946\n",
      "Created Value_num from Value - non-null: 16699\n",
      "Created Wage_num from Wage - non-null: 13812\n",
      "Created Release Clause_num from Release Clause - non-null: 15479\n",
      "Created Value_num from Value - non-null: 16657\n",
      "Created Wage_num from Wage - non-null: 13317\n",
      "Created Release Clause_num from Release Clause - non-null: 14787\n"
     ]
    }
   ],
   "source": [
    "def money_to_number(s):\n",
    "    \"\"\"Convert '€110.5M','€500K','€1.2B' or numeric-like strings into float (euros).\"\"\"\n",
    "    if pd.isna(s): return np.nan\n",
    "    if isinstance(s, (int, float)): return float(s)\n",
    "    s = str(s).strip().replace('€','').replace('£','').replace(' ','')\n",
    "    if s == '': return np.nan\n",
    "    try:\n",
    "        if s.endswith('M'): return float(s[:-1]) * 1e6\n",
    "        if s.endswith('K'): return float(s[:-1]) * 1e3\n",
    "        if s.endswith('B'): return float(s[:-1]) * 1e9\n",
    "        # remove non-numeric chars\n",
    "        return float(re.sub(r'[^\\d.]','', s))\n",
    "    except:\n",
    "        return np.nan\n",
    "\n",
    "# monetary columns: 'Value', 'Wage', 'Release Clause' (from df.info)\n",
    "for col in ['Value', 'Wage', 'Release Clause']:\n",
    "    if col in FIFA22_df.columns:\n",
    "        newc = col + '_num'\n",
    "        FIFA22_df[newc] = FIFA22_df[col].apply(money_to_number)\n",
    "        print(f\"Created {newc} from {col} - non-null:\", FIFA22_df[newc].notna().sum())\n",
    "\n",
    "for col in ['Value', 'Wage', 'Release Clause']:\n",
    "    if col in FIFA21_df.columns:\n",
    "        newc = col + '_num'\n",
    "        FIFA21_df[newc] = FIFA21_df[col].apply(money_to_number)\n",
    "        print(f\"Created {newc} from {col} - non-null:\", FIFA21_df[newc].notna().sum())\n",
    "\n",
    "for col in ['Value', 'Wage', 'Release Clause']:\n",
    "    if col in FIFA20_df.columns:\n",
    "        newc = col + '_num'\n",
    "        FIFA20_df[newc] = FIFA20_df[col].apply(money_to_number)\n",
    "        print(f\"Created {newc} from {col} - non-null:\", FIFA20_df[newc].notna().sum())"
   ]
  },
  {
   "cell_type": "code",
   "execution_count": 79,
   "id": "b7170472-a22a-45c5-955c-0470c44830bc",
   "metadata": {},
   "outputs": [
    {
     "name": "stdout",
     "output_type": "stream",
     "text": [
      "FIFA 22 - Value:\n",
      " 0    107500000.0\n",
      "1     93000000.0\n",
      "2     44500000.0\n",
      "Name: Value_num, dtype: float64\n",
      "FIFA 22 - Wage:\n",
      " 0    250000.0\n",
      "1    140000.0\n",
      "2    135000.0\n",
      "Name: Wage_num, dtype: float64\n",
      "FIFA 22 - Release Clause:\n",
      " 0    206900000.0\n",
      "1    160400000.0\n",
      "2     91200000.0\n",
      "Name: Release Clause_num, dtype: float64\n",
      "\n",
      "FIFA 21 - Value:\n",
      " 0    31500000.0\n",
      "1    87000000.0\n",
      "2    63000000.0\n",
      "Name: Value_num, dtype: float64\n",
      "FIFA 21 - Wage:\n",
      " 0    115000.0\n",
      "1    370000.0\n",
      "2    195000.0\n",
      "Name: Wage_num, dtype: float64\n",
      "FIFA 21 - Release Clause:\n",
      " 0     64600000.0\n",
      "1    161000000.0\n",
      "2    124400000.0\n",
      "Name: Release Clause_num, dtype: float64\n",
      "\n",
      "FIFA 20 - Value:\n",
      " 0    53000000.0\n",
      "1    69000000.0\n",
      "2    56500000.0\n",
      "Name: Value_num, dtype: float64\n",
      "FIFA 20 - Wage:\n",
      " 0    350000.0\n",
      "1    370000.0\n",
      "2    165000.0\n",
      "Name: Wage_num, dtype: float64\n",
      "FIFA 20 - Release Clause:\n",
      " 0    108700000.0\n",
      "1    141500000.0\n",
      "2    111600000.0\n",
      "Name: Release Clause_num, dtype: float64\n"
     ]
    }
   ],
   "source": [
    "# FIFA 22\n",
    "value_f22 = FIFA22_df['Value_num'].head(3)\n",
    "wage_f22 = FIFA22_df['Wage_num'].head(3)\n",
    "release_f22 = FIFA22_df['Release Clause_num'].head(3)\n",
    "\n",
    "print(\"FIFA 22 - Value:\\n\", value_f22)\n",
    "print(\"FIFA 22 - Wage:\\n\", wage_f22)\n",
    "print(\"FIFA 22 - Release Clause:\\n\", release_f22)\n",
    "\n",
    "# FIFA 21\n",
    "value_f21 = FIFA21_df['Value_num'].head(3)\n",
    "wage_f21 = FIFA21_df['Wage_num'].head(3)\n",
    "release_f21 = FIFA21_df['Release Clause_num'].head(3)\n",
    "\n",
    "print(\"\\nFIFA 21 - Value:\\n\", value_f21)\n",
    "print(\"FIFA 21 - Wage:\\n\", wage_f21)\n",
    "print(\"FIFA 21 - Release Clause:\\n\", release_f21)\n",
    "\n",
    "# FIFA 20\n",
    "value_f20 = FIFA20_df['Value_num'].head(3)\n",
    "wage_f20 = FIFA20_df['Wage_num'].head(3)\n",
    "release_f20 = FIFA20_df['Release Clause_num'].head(3)\n",
    "\n",
    "print(\"\\nFIFA 20 - Value:\\n\", value_f20)\n",
    "print(\"FIFA 20 - Wage:\\n\", wage_f20)\n",
    "print(\"FIFA 20 - Release Clause:\\n\", release_f20)\n"
   ]
  },
  {
   "cell_type": "code",
   "execution_count": 4,
   "id": "6584311b-4851-4151-a227-260d5f60bcb0",
   "metadata": {},
   "outputs": [
    {
     "data": {
      "text/html": [
       "<pre style=\"white-space:pre;overflow-x:auto;line-height:normal;font-family:Menlo,'DejaVu Sans Mono',consolas,'Courier New',monospace\"></pre>\n"
      ],
      "text/plain": []
     },
     "metadata": {},
     "output_type": "display_data"
    },
    {
     "data": {
      "text/plain": [
       "\n",
       "\u001b[1m[\u001b[0m\n",
       "    \u001b[32m'preprocess_fifa_22'\u001b[0m,\n",
       "    \u001b[32m'preprocess_fifa_21'\u001b[0m,\n",
       "    \u001b[32m'preprocess_fifa_20'\u001b[0m,\n",
       "    \u001b[32m'parameters'\u001b[0m,\n",
       "    \u001b[32m'DataSetFIFA22'\u001b[0m,\n",
       "    \u001b[32m'DataSetFIFA21'\u001b[0m,\n",
       "    \u001b[32m'DataSetFIFA20'\u001b[0m\n",
       "\u001b[1m]\u001b[0m"
      ]
     },
     "execution_count": 4,
     "metadata": {},
     "output_type": "execute_result"
    }
   ],
   "source": [
    "catalog.keys()"
   ]
  },
  {
   "cell_type": "code",
   "execution_count": 5,
   "id": "dd5fdb0d-b9d2-405c-adbd-c85454e15124",
   "metadata": {},
   "outputs": [
    {
     "data": {
      "text/html": [
       "<pre style=\"white-space:pre;overflow-x:auto;line-height:normal;font-family:Menlo,'DejaVu Sans Mono',consolas,'Courier New',monospace\"><span style=\"color: #7fbfbf; text-decoration-color: #7fbfbf\">[09/16/25 22:59:49] </span><span style=\"color: #000080; text-decoration-color: #000080\">INFO    </span> Loading data from <span style=\"color: #ff8700; text-decoration-color: #ff8700\">preprocess_fifa_22</span> <span style=\"font-weight: bold\">(</span>ParquetDataset<span style=\"font-weight: bold\">)</span><span style=\"color: #808000; text-decoration-color: #808000\">...</span>          <a href=\"file://C:\\Users\\brand\\Downloads\\Proyecto_ML_Kedro\\machine-learning-project\\.venv\\Lib\\site-packages\\kedro\\io\\data_catalog.py\" target=\"_blank\"><span style=\"color: #7f7f7f; text-decoration-color: #7f7f7f\">data_catalog.py</span></a><span style=\"color: #7f7f7f; text-decoration-color: #7f7f7f\">:</span><a href=\"file://C:\\Users\\brand\\Downloads\\Proyecto_ML_Kedro\\machine-learning-project\\.venv\\Lib\\site-packages\\kedro\\io\\data_catalog.py#1046\" target=\"_blank\"><span style=\"color: #7f7f7f; text-decoration-color: #7f7f7f\">1046</span></a>\n",
       "</pre>\n"
      ],
      "text/plain": [
       "\u001b[2;36m[09/16/25 22:59:49]\u001b[0m\u001b[2;36m \u001b[0m\u001b[34mINFO    \u001b[0m Loading data from \u001b[38;5;208mpreprocess_fifa_22\u001b[0m \u001b[1m(\u001b[0mParquetDataset\u001b[1m)\u001b[0m\u001b[33m...\u001b[0m          \u001b]8;id=604174;file://C:\\Users\\brand\\Downloads\\Proyecto_ML_Kedro\\machine-learning-project\\.venv\\Lib\\site-packages\\kedro\\io\\data_catalog.py\u001b\\\u001b[2mdata_catalog.py\u001b[0m\u001b]8;;\u001b\\\u001b[2m:\u001b[0m\u001b]8;id=397063;file://C:\\Users\\brand\\Downloads\\Proyecto_ML_Kedro\\machine-learning-project\\.venv\\Lib\\site-packages\\kedro\\io\\data_catalog.py#1046\u001b\\\u001b[2m1046\u001b[0m\u001b]8;;\u001b\\\n"
      ]
     },
     "metadata": {},
     "output_type": "display_data"
    },
    {
     "data": {
      "text/html": [
       "<pre style=\"white-space:pre;overflow-x:auto;line-height:normal;font-family:Menlo,'DejaVu Sans Mono',consolas,'Courier New',monospace\"><span style=\"color: #7fbfbf; text-decoration-color: #7fbfbf\">                    </span><span style=\"color: #000080; text-decoration-color: #000080\">INFO    </span> Loading data from <span style=\"color: #ff8700; text-decoration-color: #ff8700\">preprocess_fifa_21</span> <span style=\"font-weight: bold\">(</span>ParquetDataset<span style=\"font-weight: bold\">)</span><span style=\"color: #808000; text-decoration-color: #808000\">...</span>          <a href=\"file://C:\\Users\\brand\\Downloads\\Proyecto_ML_Kedro\\machine-learning-project\\.venv\\Lib\\site-packages\\kedro\\io\\data_catalog.py\" target=\"_blank\"><span style=\"color: #7f7f7f; text-decoration-color: #7f7f7f\">data_catalog.py</span></a><span style=\"color: #7f7f7f; text-decoration-color: #7f7f7f\">:</span><a href=\"file://C:\\Users\\brand\\Downloads\\Proyecto_ML_Kedro\\machine-learning-project\\.venv\\Lib\\site-packages\\kedro\\io\\data_catalog.py#1046\" target=\"_blank\"><span style=\"color: #7f7f7f; text-decoration-color: #7f7f7f\">1046</span></a>\n",
       "</pre>\n"
      ],
      "text/plain": [
       "\u001b[2;36m                   \u001b[0m\u001b[2;36m \u001b[0m\u001b[34mINFO    \u001b[0m Loading data from \u001b[38;5;208mpreprocess_fifa_21\u001b[0m \u001b[1m(\u001b[0mParquetDataset\u001b[1m)\u001b[0m\u001b[33m...\u001b[0m          \u001b]8;id=812162;file://C:\\Users\\brand\\Downloads\\Proyecto_ML_Kedro\\machine-learning-project\\.venv\\Lib\\site-packages\\kedro\\io\\data_catalog.py\u001b\\\u001b[2mdata_catalog.py\u001b[0m\u001b]8;;\u001b\\\u001b[2m:\u001b[0m\u001b]8;id=579435;file://C:\\Users\\brand\\Downloads\\Proyecto_ML_Kedro\\machine-learning-project\\.venv\\Lib\\site-packages\\kedro\\io\\data_catalog.py#1046\u001b\\\u001b[2m1046\u001b[0m\u001b]8;;\u001b\\\n"
      ]
     },
     "metadata": {},
     "output_type": "display_data"
    },
    {
     "data": {
      "text/html": [
       "<pre style=\"white-space:pre;overflow-x:auto;line-height:normal;font-family:Menlo,'DejaVu Sans Mono',consolas,'Courier New',monospace\"><span style=\"color: #7fbfbf; text-decoration-color: #7fbfbf\">                    </span><span style=\"color: #000080; text-decoration-color: #000080\">INFO    </span> Loading data from <span style=\"color: #ff8700; text-decoration-color: #ff8700\">preprocess_fifa_20</span> <span style=\"font-weight: bold\">(</span>ParquetDataset<span style=\"font-weight: bold\">)</span><span style=\"color: #808000; text-decoration-color: #808000\">...</span>          <a href=\"file://C:\\Users\\brand\\Downloads\\Proyecto_ML_Kedro\\machine-learning-project\\.venv\\Lib\\site-packages\\kedro\\io\\data_catalog.py\" target=\"_blank\"><span style=\"color: #7f7f7f; text-decoration-color: #7f7f7f\">data_catalog.py</span></a><span style=\"color: #7f7f7f; text-decoration-color: #7f7f7f\">:</span><a href=\"file://C:\\Users\\brand\\Downloads\\Proyecto_ML_Kedro\\machine-learning-project\\.venv\\Lib\\site-packages\\kedro\\io\\data_catalog.py#1046\" target=\"_blank\"><span style=\"color: #7f7f7f; text-decoration-color: #7f7f7f\">1046</span></a>\n",
       "</pre>\n"
      ],
      "text/plain": [
       "\u001b[2;36m                   \u001b[0m\u001b[2;36m \u001b[0m\u001b[34mINFO    \u001b[0m Loading data from \u001b[38;5;208mpreprocess_fifa_20\u001b[0m \u001b[1m(\u001b[0mParquetDataset\u001b[1m)\u001b[0m\u001b[33m...\u001b[0m          \u001b]8;id=250119;file://C:\\Users\\brand\\Downloads\\Proyecto_ML_Kedro\\machine-learning-project\\.venv\\Lib\\site-packages\\kedro\\io\\data_catalog.py\u001b\\\u001b[2mdata_catalog.py\u001b[0m\u001b]8;;\u001b\\\u001b[2m:\u001b[0m\u001b]8;id=844634;file://C:\\Users\\brand\\Downloads\\Proyecto_ML_Kedro\\machine-learning-project\\.venv\\Lib\\site-packages\\kedro\\io\\data_catalog.py#1046\u001b\\\u001b[2m1046\u001b[0m\u001b]8;;\u001b\\\n"
      ]
     },
     "metadata": {},
     "output_type": "display_data"
    }
   ],
   "source": [
    "FIFA22_dfpr = catalog.load(\"preprocess_fifa_22\")\n",
    "FIFA21_dfpr = catalog.load(\"preprocess_fifa_21\")\n",
    "FIFA20_dfpr = catalog.load(\"preprocess_fifa_20\")"
   ]
  },
  {
   "cell_type": "markdown",
   "id": "dd1c06ff-fb0f-47cc-a4f1-c34ada4da684",
   "metadata": {},
   "source": [
    "### Mostrando los archivos parquet limpios o modificados\n",
    "\n",
    "Se le aplica cambio del formato a las variables **Value**, **Wage** y **ReleaseClause**, creando las **columnasValue_num**\t**Wage_num**\t**ReleaseClause_num** "
   ]
  },
  {
   "cell_type": "code",
   "execution_count": 6,
   "id": "21364d75-b9ac-4c78-bd1b-7fc49af9e2f3",
   "metadata": {},
   "outputs": [
    {
     "data": {
      "text/html": [
       "<pre style=\"white-space:pre;overflow-x:auto;line-height:normal;font-family:Menlo,'DejaVu Sans Mono',consolas,'Courier New',monospace\"></pre>\n"
      ],
      "text/plain": []
     },
     "metadata": {},
     "output_type": "display_data"
    },
    {
     "data": {
      "text/html": [
       "<div>\n",
       "<style scoped>\n",
       "    .dataframe tbody tr th:only-of-type {\n",
       "        vertical-align: middle;\n",
       "    }\n",
       "\n",
       "    .dataframe tbody tr th {\n",
       "        vertical-align: top;\n",
       "    }\n",
       "\n",
       "    .dataframe thead th {\n",
       "        text-align: right;\n",
       "    }\n",
       "</style>\n",
       "<table border=\"1\" class=\"dataframe\">\n",
       "  <thead>\n",
       "    <tr style=\"text-align: right;\">\n",
       "      <th></th>\n",
       "      <th>ID</th>\n",
       "      <th>Name</th>\n",
       "      <th>Age</th>\n",
       "      <th>Photo</th>\n",
       "      <th>Nationality</th>\n",
       "      <th>Flag</th>\n",
       "      <th>Overall</th>\n",
       "      <th>Potential</th>\n",
       "      <th>Club</th>\n",
       "      <th>Club Logo</th>\n",
       "      <th>...</th>\n",
       "      <th>GKKicking</th>\n",
       "      <th>GKPositioning</th>\n",
       "      <th>GKReflexes</th>\n",
       "      <th>Best Position</th>\n",
       "      <th>Best Overall Rating</th>\n",
       "      <th>Release Clause</th>\n",
       "      <th>DefensiveAwareness</th>\n",
       "      <th>Value_num</th>\n",
       "      <th>Wage_num</th>\n",
       "      <th>ReleaseClause_num</th>\n",
       "    </tr>\n",
       "  </thead>\n",
       "  <tbody>\n",
       "    <tr>\n",
       "      <th>0</th>\n",
       "      <td>212198</td>\n",
       "      <td>Bruno Fernandes</td>\n",
       "      <td>26</td>\n",
       "      <td>https://cdn.sofifa.com/players/212/198/22_60.png</td>\n",
       "      <td>Portugal</td>\n",
       "      <td>https://cdn.sofifa.com/flags/pt.png</td>\n",
       "      <td>88</td>\n",
       "      <td>89</td>\n",
       "      <td>Manchester United</td>\n",
       "      <td>https://cdn.sofifa.com/teams/11/30.png</td>\n",
       "      <td>...</td>\n",
       "      <td>15.0</td>\n",
       "      <td>8.0</td>\n",
       "      <td>14.0</td>\n",
       "      <td>CAM</td>\n",
       "      <td>88.0</td>\n",
       "      <td>€206.9M</td>\n",
       "      <td>72.0</td>\n",
       "      <td>107500000.0</td>\n",
       "      <td>250000.0</td>\n",
       "      <td>206900000.0</td>\n",
       "    </tr>\n",
       "    <tr>\n",
       "      <th>1</th>\n",
       "      <td>209658</td>\n",
       "      <td>L. Goretzka</td>\n",
       "      <td>26</td>\n",
       "      <td>https://cdn.sofifa.com/players/209/658/22_60.png</td>\n",
       "      <td>Germany</td>\n",
       "      <td>https://cdn.sofifa.com/flags/de.png</td>\n",
       "      <td>87</td>\n",
       "      <td>88</td>\n",
       "      <td>FC Bayern München</td>\n",
       "      <td>https://cdn.sofifa.com/teams/21/30.png</td>\n",
       "      <td>...</td>\n",
       "      <td>15.0</td>\n",
       "      <td>11.0</td>\n",
       "      <td>9.0</td>\n",
       "      <td>CM</td>\n",
       "      <td>87.0</td>\n",
       "      <td>€160.4M</td>\n",
       "      <td>74.0</td>\n",
       "      <td>93000000.0</td>\n",
       "      <td>140000.0</td>\n",
       "      <td>160400000.0</td>\n",
       "    </tr>\n",
       "    <tr>\n",
       "      <th>2</th>\n",
       "      <td>176580</td>\n",
       "      <td>L. Suárez</td>\n",
       "      <td>34</td>\n",
       "      <td>https://cdn.sofifa.com/players/176/580/22_60.png</td>\n",
       "      <td>Uruguay</td>\n",
       "      <td>https://cdn.sofifa.com/flags/uy.png</td>\n",
       "      <td>88</td>\n",
       "      <td>88</td>\n",
       "      <td>Atlético de Madrid</td>\n",
       "      <td>https://cdn.sofifa.com/teams/240/30.png</td>\n",
       "      <td>...</td>\n",
       "      <td>31.0</td>\n",
       "      <td>33.0</td>\n",
       "      <td>37.0</td>\n",
       "      <td>ST</td>\n",
       "      <td>88.0</td>\n",
       "      <td>€91.2M</td>\n",
       "      <td>42.0</td>\n",
       "      <td>44500000.0</td>\n",
       "      <td>135000.0</td>\n",
       "      <td>91200000.0</td>\n",
       "    </tr>\n",
       "    <tr>\n",
       "      <th>3</th>\n",
       "      <td>192985</td>\n",
       "      <td>K. De Bruyne</td>\n",
       "      <td>30</td>\n",
       "      <td>https://cdn.sofifa.com/players/192/985/22_60.png</td>\n",
       "      <td>Belgium</td>\n",
       "      <td>https://cdn.sofifa.com/flags/be.png</td>\n",
       "      <td>91</td>\n",
       "      <td>91</td>\n",
       "      <td>Manchester City</td>\n",
       "      <td>https://cdn.sofifa.com/teams/10/30.png</td>\n",
       "      <td>...</td>\n",
       "      <td>5.0</td>\n",
       "      <td>10.0</td>\n",
       "      <td>13.0</td>\n",
       "      <td>CM</td>\n",
       "      <td>91.0</td>\n",
       "      <td>€232.2M</td>\n",
       "      <td>68.0</td>\n",
       "      <td>125500000.0</td>\n",
       "      <td>350000.0</td>\n",
       "      <td>232200000.0</td>\n",
       "    </tr>\n",
       "    <tr>\n",
       "      <th>4</th>\n",
       "      <td>224334</td>\n",
       "      <td>M. Acuña</td>\n",
       "      <td>29</td>\n",
       "      <td>https://cdn.sofifa.com/players/224/334/22_60.png</td>\n",
       "      <td>Argentina</td>\n",
       "      <td>https://cdn.sofifa.com/flags/ar.png</td>\n",
       "      <td>84</td>\n",
       "      <td>84</td>\n",
       "      <td>Sevilla FC</td>\n",
       "      <td>https://cdn.sofifa.com/teams/481/30.png</td>\n",
       "      <td>...</td>\n",
       "      <td>13.0</td>\n",
       "      <td>13.0</td>\n",
       "      <td>14.0</td>\n",
       "      <td>LB</td>\n",
       "      <td>84.0</td>\n",
       "      <td>€77.7M</td>\n",
       "      <td>80.0</td>\n",
       "      <td>37000000.0</td>\n",
       "      <td>45000.0</td>\n",
       "      <td>77700000.0</td>\n",
       "    </tr>\n",
       "  </tbody>\n",
       "</table>\n",
       "<p>5 rows × 68 columns</p>\n",
       "</div>"
      ],
      "text/plain": [
       "\n",
       "       ID             Name  Age  \\\n",
       "\u001b[1;36m0\u001b[0m  \u001b[1;36m212198\u001b[0m  Bruno Fernandes   \u001b[1;36m26\u001b[0m   \n",
       "\u001b[1;36m1\u001b[0m  \u001b[1;36m209658\u001b[0m      L. Goretzka   \u001b[1;36m26\u001b[0m   \n",
       "\u001b[1;36m2\u001b[0m  \u001b[1;36m176580\u001b[0m        L. Suárez   \u001b[1;36m34\u001b[0m   \n",
       "\u001b[1;36m3\u001b[0m  \u001b[1;36m192985\u001b[0m     K. De Bruyne   \u001b[1;36m30\u001b[0m   \n",
       "\u001b[1;36m4\u001b[0m  \u001b[1;36m224334\u001b[0m         M. Acuña   \u001b[1;36m29\u001b[0m   \n",
       "\n",
       "                                              Photo Nationality  \\\n",
       "\u001b[1;36m0\u001b[0m  \u001b[4;94mhttps://cdn.sofifa.com/players/212/198/22_60.png\u001b[0m    Portugal   \n",
       "\u001b[1;36m1\u001b[0m  \u001b[4;94mhttps://cdn.sofifa.com/players/209/658/22_60.png\u001b[0m     Germany   \n",
       "\u001b[1;36m2\u001b[0m  \u001b[4;94mhttps://cdn.sofifa.com/players/176/580/22_60.png\u001b[0m     Uruguay   \n",
       "\u001b[1;36m3\u001b[0m  \u001b[4;94mhttps://cdn.sofifa.com/players/192/985/22_60.png\u001b[0m     Belgium   \n",
       "\u001b[1;36m4\u001b[0m  \u001b[4;94mhttps://cdn.sofifa.com/players/224/334/22_60.png\u001b[0m   Argentina   \n",
       "\n",
       "                                  Flag  Overall  Potential  \\\n",
       "\u001b[1;36m0\u001b[0m  \u001b[4;94mhttps://cdn.sofifa.com/flags/pt.png\u001b[0m       \u001b[1;36m88\u001b[0m         \u001b[1;36m89\u001b[0m   \n",
       "\u001b[1;36m1\u001b[0m  \u001b[4;94mhttps://cdn.sofifa.com/flags/de.png\u001b[0m       \u001b[1;36m87\u001b[0m         \u001b[1;36m88\u001b[0m   \n",
       "\u001b[1;36m2\u001b[0m  \u001b[4;94mhttps://cdn.sofifa.com/flags/uy.png\u001b[0m       \u001b[1;36m88\u001b[0m         \u001b[1;36m88\u001b[0m   \n",
       "\u001b[1;36m3\u001b[0m  \u001b[4;94mhttps://cdn.sofifa.com/flags/be.png\u001b[0m       \u001b[1;36m91\u001b[0m         \u001b[1;36m91\u001b[0m   \n",
       "\u001b[1;36m4\u001b[0m  \u001b[4;94mhttps://cdn.sofifa.com/flags/ar.png\u001b[0m       \u001b[1;36m84\u001b[0m         \u001b[1;36m84\u001b[0m   \n",
       "\n",
       "                 Club                                Club Logo  \u001b[33m...\u001b[0m GKKicking  \\\n",
       "\u001b[1;36m0\u001b[0m   Manchester United   \u001b[4;94mhttps://cdn.sofifa.com/teams/11/30.png\u001b[0m  \u001b[33m...\u001b[0m      \u001b[1;36m15.0\u001b[0m   \n",
       "\u001b[1;36m1\u001b[0m   FC Bayern München   \u001b[4;94mhttps://cdn.sofifa.com/teams/21/30.png\u001b[0m  \u001b[33m...\u001b[0m      \u001b[1;36m15.0\u001b[0m   \n",
       "\u001b[1;36m2\u001b[0m  Atlético de Madrid  \u001b[4;94mhttps://cdn.sofifa.com/teams/240/30.png\u001b[0m  \u001b[33m...\u001b[0m      \u001b[1;36m31.0\u001b[0m   \n",
       "\u001b[1;36m3\u001b[0m     Manchester City   \u001b[4;94mhttps://cdn.sofifa.com/teams/10/30.png\u001b[0m  \u001b[33m...\u001b[0m       \u001b[1;36m5.0\u001b[0m   \n",
       "\u001b[1;36m4\u001b[0m          Sevilla FC  \u001b[4;94mhttps://cdn.sofifa.com/teams/481/30.png\u001b[0m  \u001b[33m...\u001b[0m      \u001b[1;36m13.0\u001b[0m   \n",
       "\n",
       "  GKPositioning  GKReflexes Best Position  Best Overall Rating  \\\n",
       "\u001b[1;36m0\u001b[0m           \u001b[1;36m8.0\u001b[0m        \u001b[1;36m14.0\u001b[0m           CAM                 \u001b[1;36m88.0\u001b[0m   \n",
       "\u001b[1;36m1\u001b[0m          \u001b[1;36m11.0\u001b[0m         \u001b[1;36m9.0\u001b[0m            CM                 \u001b[1;36m87.0\u001b[0m   \n",
       "\u001b[1;36m2\u001b[0m          \u001b[1;36m33.0\u001b[0m        \u001b[1;36m37.0\u001b[0m            ST                 \u001b[1;36m88.0\u001b[0m   \n",
       "\u001b[1;36m3\u001b[0m          \u001b[1;36m10.0\u001b[0m        \u001b[1;36m13.0\u001b[0m            CM                 \u001b[1;36m91.0\u001b[0m   \n",
       "\u001b[1;36m4\u001b[0m          \u001b[1;36m13.0\u001b[0m        \u001b[1;36m14.0\u001b[0m            LB                 \u001b[1;36m84.0\u001b[0m   \n",
       "\n",
       "   Release Clause  DefensiveAwareness    Value_num  Wage_num ReleaseClause_num  \n",
       "\u001b[1;36m0\u001b[0m         €\u001b[1;36m206.\u001b[0m9M                \u001b[1;36m72.0\u001b[0m  \u001b[1;36m107500000.0\u001b[0m  \u001b[1;36m250000.0\u001b[0m       \u001b[1;36m206900000.0\u001b[0m  \n",
       "\u001b[1;36m1\u001b[0m         €\u001b[1;36m160.\u001b[0m4M                \u001b[1;36m74.0\u001b[0m   \u001b[1;36m93000000.0\u001b[0m  \u001b[1;36m140000.0\u001b[0m       \u001b[1;36m160400000.0\u001b[0m  \n",
       "\u001b[1;36m2\u001b[0m          €\u001b[1;36m91.\u001b[0m2M                \u001b[1;36m42.0\u001b[0m   \u001b[1;36m44500000.0\u001b[0m  \u001b[1;36m135000.0\u001b[0m        \u001b[1;36m91200000.0\u001b[0m  \n",
       "\u001b[1;36m3\u001b[0m         €\u001b[1;36m232.\u001b[0m2M                \u001b[1;36m68.0\u001b[0m  \u001b[1;36m125500000.0\u001b[0m  \u001b[1;36m350000.0\u001b[0m       \u001b[1;36m232200000.0\u001b[0m  \n",
       "\u001b[1;36m4\u001b[0m          €\u001b[1;36m77.\u001b[0m7M                \u001b[1;36m80.0\u001b[0m   \u001b[1;36m37000000.0\u001b[0m   \u001b[1;36m45000.0\u001b[0m        \u001b[1;36m77700000.0\u001b[0m  \n",
       "\n",
       "\u001b[1m[\u001b[0m\u001b[1;36m5\u001b[0m rows x \u001b[1;36m68\u001b[0m columns\u001b[1m]\u001b[0m"
      ]
     },
     "execution_count": 6,
     "metadata": {},
     "output_type": "execute_result"
    }
   ],
   "source": [
    "FIFA22_dfpr.head()"
   ]
  },
  {
   "cell_type": "code",
   "execution_count": 7,
   "id": "910a607d-9237-4aeb-8dda-38d0d007358f",
   "metadata": {},
   "outputs": [
    {
     "data": {
      "text/html": [
       "<pre style=\"white-space:pre;overflow-x:auto;line-height:normal;font-family:Menlo,'DejaVu Sans Mono',consolas,'Courier New',monospace\"></pre>\n"
      ],
      "text/plain": []
     },
     "metadata": {},
     "output_type": "display_data"
    },
    {
     "data": {
      "text/html": [
       "<div>\n",
       "<style scoped>\n",
       "    .dataframe tbody tr th:only-of-type {\n",
       "        vertical-align: middle;\n",
       "    }\n",
       "\n",
       "    .dataframe tbody tr th {\n",
       "        vertical-align: top;\n",
       "    }\n",
       "\n",
       "    .dataframe thead th {\n",
       "        text-align: right;\n",
       "    }\n",
       "</style>\n",
       "<table border=\"1\" class=\"dataframe\">\n",
       "  <thead>\n",
       "    <tr style=\"text-align: right;\">\n",
       "      <th></th>\n",
       "      <th>ID</th>\n",
       "      <th>Name</th>\n",
       "      <th>Age</th>\n",
       "      <th>Photo</th>\n",
       "      <th>Nationality</th>\n",
       "      <th>Flag</th>\n",
       "      <th>Overall</th>\n",
       "      <th>Potential</th>\n",
       "      <th>Club</th>\n",
       "      <th>Club Logo</th>\n",
       "      <th>...</th>\n",
       "      <th>GKKicking</th>\n",
       "      <th>GKPositioning</th>\n",
       "      <th>GKReflexes</th>\n",
       "      <th>Best Position</th>\n",
       "      <th>Best Overall Rating</th>\n",
       "      <th>Release Clause</th>\n",
       "      <th>DefensiveAwareness</th>\n",
       "      <th>Value_num</th>\n",
       "      <th>Wage_num</th>\n",
       "      <th>ReleaseClause_num</th>\n",
       "    </tr>\n",
       "  </thead>\n",
       "  <tbody>\n",
       "    <tr>\n",
       "      <th>0</th>\n",
       "      <td>176580</td>\n",
       "      <td>L. Suárez</td>\n",
       "      <td>33</td>\n",
       "      <td>https://cdn.sofifa.com/players/176/580/20_60.png</td>\n",
       "      <td>Uruguay</td>\n",
       "      <td>https://cdn.sofifa.com/flags/uy.png</td>\n",
       "      <td>87</td>\n",
       "      <td>87</td>\n",
       "      <td>Atlético Madrid</td>\n",
       "      <td>https://cdn.sofifa.com/teams/240/light_30.png</td>\n",
       "      <td>...</td>\n",
       "      <td>31.0</td>\n",
       "      <td>33.0</td>\n",
       "      <td>37.0</td>\n",
       "      <td>ST</td>\n",
       "      <td>87.0</td>\n",
       "      <td>€64.6M</td>\n",
       "      <td>57.0</td>\n",
       "      <td>31500000.0</td>\n",
       "      <td>115000.0</td>\n",
       "      <td>64600000.0</td>\n",
       "    </tr>\n",
       "    <tr>\n",
       "      <th>1</th>\n",
       "      <td>192985</td>\n",
       "      <td>K. De Bruyne</td>\n",
       "      <td>29</td>\n",
       "      <td>https://cdn.sofifa.com/players/192/985/20_60.png</td>\n",
       "      <td>Belgium</td>\n",
       "      <td>https://cdn.sofifa.com/flags/be.png</td>\n",
       "      <td>91</td>\n",
       "      <td>91</td>\n",
       "      <td>Manchester City</td>\n",
       "      <td>https://cdn.sofifa.com/teams/10/light_30.png</td>\n",
       "      <td>...</td>\n",
       "      <td>5.0</td>\n",
       "      <td>10.0</td>\n",
       "      <td>13.0</td>\n",
       "      <td>CAM</td>\n",
       "      <td>91.0</td>\n",
       "      <td>€161M</td>\n",
       "      <td>68.0</td>\n",
       "      <td>87000000.0</td>\n",
       "      <td>370000.0</td>\n",
       "      <td>161000000.0</td>\n",
       "    </tr>\n",
       "    <tr>\n",
       "      <th>2</th>\n",
       "      <td>212198</td>\n",
       "      <td>Bruno Fernandes</td>\n",
       "      <td>25</td>\n",
       "      <td>https://cdn.sofifa.com/players/212/198/20_60.png</td>\n",
       "      <td>Portugal</td>\n",
       "      <td>https://cdn.sofifa.com/flags/pt.png</td>\n",
       "      <td>87</td>\n",
       "      <td>90</td>\n",
       "      <td>Manchester United</td>\n",
       "      <td>https://cdn.sofifa.com/teams/11/light_30.png</td>\n",
       "      <td>...</td>\n",
       "      <td>15.0</td>\n",
       "      <td>8.0</td>\n",
       "      <td>14.0</td>\n",
       "      <td>CAM</td>\n",
       "      <td>88.0</td>\n",
       "      <td>€124.4M</td>\n",
       "      <td>72.0</td>\n",
       "      <td>63000000.0</td>\n",
       "      <td>195000.0</td>\n",
       "      <td>124400000.0</td>\n",
       "    </tr>\n",
       "    <tr>\n",
       "      <th>3</th>\n",
       "      <td>194765</td>\n",
       "      <td>A. Griezmann</td>\n",
       "      <td>29</td>\n",
       "      <td>https://cdn.sofifa.com/players/194/765/20_60.png</td>\n",
       "      <td>France</td>\n",
       "      <td>https://cdn.sofifa.com/flags/fr.png</td>\n",
       "      <td>87</td>\n",
       "      <td>87</td>\n",
       "      <td>FC Barcelona</td>\n",
       "      <td>https://cdn.sofifa.com/teams/241/light_30.png</td>\n",
       "      <td>...</td>\n",
       "      <td>14.0</td>\n",
       "      <td>13.0</td>\n",
       "      <td>14.0</td>\n",
       "      <td>ST</td>\n",
       "      <td>87.0</td>\n",
       "      <td>€103.5M</td>\n",
       "      <td>59.0</td>\n",
       "      <td>50500000.0</td>\n",
       "      <td>290000.0</td>\n",
       "      <td>103500000.0</td>\n",
       "    </tr>\n",
       "    <tr>\n",
       "      <th>4</th>\n",
       "      <td>224334</td>\n",
       "      <td>M. Acuña</td>\n",
       "      <td>28</td>\n",
       "      <td>https://cdn.sofifa.com/players/224/334/20_60.png</td>\n",
       "      <td>Argentina</td>\n",
       "      <td>https://cdn.sofifa.com/flags/ar.png</td>\n",
       "      <td>83</td>\n",
       "      <td>83</td>\n",
       "      <td>Sevilla FC</td>\n",
       "      <td>https://cdn.sofifa.com/teams/481/light_30.png</td>\n",
       "      <td>...</td>\n",
       "      <td>13.0</td>\n",
       "      <td>13.0</td>\n",
       "      <td>14.0</td>\n",
       "      <td>LB</td>\n",
       "      <td>83.0</td>\n",
       "      <td>€46.2M</td>\n",
       "      <td>79.0</td>\n",
       "      <td>22000000.0</td>\n",
       "      <td>41000.0</td>\n",
       "      <td>46200000.0</td>\n",
       "    </tr>\n",
       "  </tbody>\n",
       "</table>\n",
       "<p>5 rows × 68 columns</p>\n",
       "</div>"
      ],
      "text/plain": [
       "\n",
       "       ID              Name  Age  \\\n",
       "\u001b[1;36m0\u001b[0m  \u001b[1;36m176580\u001b[0m         L. Suárez   \u001b[1;36m33\u001b[0m   \n",
       "\u001b[1;36m1\u001b[0m  \u001b[1;36m192985\u001b[0m      K. De Bruyne   \u001b[1;36m29\u001b[0m   \n",
       "\u001b[1;36m2\u001b[0m  \u001b[1;36m212198\u001b[0m   Bruno Fernandes   \u001b[1;36m25\u001b[0m   \n",
       "\u001b[1;36m3\u001b[0m  \u001b[1;36m194765\u001b[0m      A. Griezmann   \u001b[1;36m29\u001b[0m   \n",
       "\u001b[1;36m4\u001b[0m  \u001b[1;36m224334\u001b[0m          M. Acuña   \u001b[1;36m28\u001b[0m   \n",
       "\n",
       "                                              Photo Nationality  \\\n",
       "\u001b[1;36m0\u001b[0m  \u001b[4;94mhttps://cdn.sofifa.com/players/176/580/20_60.png\u001b[0m     Uruguay   \n",
       "\u001b[1;36m1\u001b[0m  \u001b[4;94mhttps://cdn.sofifa.com/players/192/985/20_60.png\u001b[0m     Belgium   \n",
       "\u001b[1;36m2\u001b[0m  \u001b[4;94mhttps://cdn.sofifa.com/players/212/198/20_60.png\u001b[0m    Portugal   \n",
       "\u001b[1;36m3\u001b[0m  \u001b[4;94mhttps://cdn.sofifa.com/players/194/765/20_60.png\u001b[0m      France   \n",
       "\u001b[1;36m4\u001b[0m  \u001b[4;94mhttps://cdn.sofifa.com/players/224/334/20_60.png\u001b[0m   Argentina   \n",
       "\n",
       "                                  Flag  Overall  Potential               Club  \\\n",
       "\u001b[1;36m0\u001b[0m  \u001b[4;94mhttps://cdn.sofifa.com/flags/uy.png\u001b[0m       \u001b[1;36m87\u001b[0m         \u001b[1;36m87\u001b[0m    Atlético Madrid   \n",
       "\u001b[1;36m1\u001b[0m  \u001b[4;94mhttps://cdn.sofifa.com/flags/be.png\u001b[0m       \u001b[1;36m91\u001b[0m         \u001b[1;36m91\u001b[0m    Manchester City   \n",
       "\u001b[1;36m2\u001b[0m  \u001b[4;94mhttps://cdn.sofifa.com/flags/pt.png\u001b[0m       \u001b[1;36m87\u001b[0m         \u001b[1;36m90\u001b[0m  Manchester United   \n",
       "\u001b[1;36m3\u001b[0m  \u001b[4;94mhttps://cdn.sofifa.com/flags/fr.png\u001b[0m       \u001b[1;36m87\u001b[0m         \u001b[1;36m87\u001b[0m       FC Barcelona   \n",
       "\u001b[1;36m4\u001b[0m  \u001b[4;94mhttps://cdn.sofifa.com/flags/ar.png\u001b[0m       \u001b[1;36m83\u001b[0m         \u001b[1;36m83\u001b[0m         Sevilla FC   \n",
       "\n",
       "                                       Club Logo  \u001b[33m...\u001b[0m GKKicking GKPositioning  \\\n",
       "\u001b[1;36m0\u001b[0m  \u001b[4;94mhttps://cdn.sofifa.com/teams/240/light_30.png\u001b[0m  \u001b[33m...\u001b[0m      \u001b[1;36m31.0\u001b[0m          \u001b[1;36m33.0\u001b[0m   \n",
       "\u001b[1;36m1\u001b[0m   \u001b[4;94mhttps://cdn.sofifa.com/teams/10/light_30.png\u001b[0m  \u001b[33m...\u001b[0m       \u001b[1;36m5.0\u001b[0m          \u001b[1;36m10.0\u001b[0m   \n",
       "\u001b[1;36m2\u001b[0m   \u001b[4;94mhttps://cdn.sofifa.com/teams/11/light_30.png\u001b[0m  \u001b[33m...\u001b[0m      \u001b[1;36m15.0\u001b[0m           \u001b[1;36m8.0\u001b[0m   \n",
       "\u001b[1;36m3\u001b[0m  \u001b[4;94mhttps://cdn.sofifa.com/teams/241/light_30.png\u001b[0m  \u001b[33m...\u001b[0m      \u001b[1;36m14.0\u001b[0m          \u001b[1;36m13.0\u001b[0m   \n",
       "\u001b[1;36m4\u001b[0m  \u001b[4;94mhttps://cdn.sofifa.com/teams/481/light_30.png\u001b[0m  \u001b[33m...\u001b[0m      \u001b[1;36m13.0\u001b[0m          \u001b[1;36m13.0\u001b[0m   \n",
       "\n",
       "   GKReflexes Best Position  Best Overall Rating  Release Clause  \\\n",
       "\u001b[1;36m0\u001b[0m        \u001b[1;36m37.0\u001b[0m            ST                 \u001b[1;36m87.0\u001b[0m          €\u001b[1;36m64.\u001b[0m6M   \n",
       "\u001b[1;36m1\u001b[0m        \u001b[1;36m13.0\u001b[0m           CAM                 \u001b[1;36m91.0\u001b[0m           €161M   \n",
       "\u001b[1;36m2\u001b[0m        \u001b[1;36m14.0\u001b[0m           CAM                 \u001b[1;36m88.0\u001b[0m         €\u001b[1;36m124.\u001b[0m4M   \n",
       "\u001b[1;36m3\u001b[0m        \u001b[1;36m14.0\u001b[0m            ST                 \u001b[1;36m87.0\u001b[0m         €\u001b[1;36m103.\u001b[0m5M   \n",
       "\u001b[1;36m4\u001b[0m        \u001b[1;36m14.0\u001b[0m            LB                 \u001b[1;36m83.0\u001b[0m          €\u001b[1;36m46.\u001b[0m2M   \n",
       "\n",
       "   DefensiveAwareness   Value_num  Wage_num ReleaseClause_num  \n",
       "\u001b[1;36m0\u001b[0m                \u001b[1;36m57.0\u001b[0m  \u001b[1;36m31500000.0\u001b[0m  \u001b[1;36m115000.0\u001b[0m        \u001b[1;36m64600000.0\u001b[0m  \n",
       "\u001b[1;36m1\u001b[0m                \u001b[1;36m68.0\u001b[0m  \u001b[1;36m87000000.0\u001b[0m  \u001b[1;36m370000.0\u001b[0m       \u001b[1;36m161000000.0\u001b[0m  \n",
       "\u001b[1;36m2\u001b[0m                \u001b[1;36m72.0\u001b[0m  \u001b[1;36m63000000.0\u001b[0m  \u001b[1;36m195000.0\u001b[0m       \u001b[1;36m124400000.0\u001b[0m  \n",
       "\u001b[1;36m3\u001b[0m                \u001b[1;36m59.0\u001b[0m  \u001b[1;36m50500000.0\u001b[0m  \u001b[1;36m290000.0\u001b[0m       \u001b[1;36m103500000.0\u001b[0m  \n",
       "\u001b[1;36m4\u001b[0m                \u001b[1;36m79.0\u001b[0m  \u001b[1;36m22000000.0\u001b[0m   \u001b[1;36m41000.0\u001b[0m        \u001b[1;36m46200000.0\u001b[0m  \n",
       "\n",
       "\u001b[1m[\u001b[0m\u001b[1;36m5\u001b[0m rows x \u001b[1;36m68\u001b[0m columns\u001b[1m]\u001b[0m"
      ]
     },
     "execution_count": 7,
     "metadata": {},
     "output_type": "execute_result"
    }
   ],
   "source": [
    "FIFA21_dfpr.head()"
   ]
  },
  {
   "cell_type": "code",
   "execution_count": 8,
   "id": "6f604ddd-0096-4212-8b16-b8860d1e2eee",
   "metadata": {},
   "outputs": [
    {
     "data": {
      "text/html": [
       "<pre style=\"white-space:pre;overflow-x:auto;line-height:normal;font-family:Menlo,'DejaVu Sans Mono',consolas,'Courier New',monospace\"></pre>\n"
      ],
      "text/plain": []
     },
     "metadata": {},
     "output_type": "display_data"
    },
    {
     "data": {
      "text/html": [
       "<div>\n",
       "<style scoped>\n",
       "    .dataframe tbody tr th:only-of-type {\n",
       "        vertical-align: middle;\n",
       "    }\n",
       "\n",
       "    .dataframe tbody tr th {\n",
       "        vertical-align: top;\n",
       "    }\n",
       "\n",
       "    .dataframe thead th {\n",
       "        text-align: right;\n",
       "    }\n",
       "</style>\n",
       "<table border=\"1\" class=\"dataframe\">\n",
       "  <thead>\n",
       "    <tr style=\"text-align: right;\">\n",
       "      <th></th>\n",
       "      <th>ID</th>\n",
       "      <th>Name</th>\n",
       "      <th>Age</th>\n",
       "      <th>Photo</th>\n",
       "      <th>Nationality</th>\n",
       "      <th>Flag</th>\n",
       "      <th>Overall</th>\n",
       "      <th>Potential</th>\n",
       "      <th>Club</th>\n",
       "      <th>Club Logo</th>\n",
       "      <th>...</th>\n",
       "      <th>GKKicking</th>\n",
       "      <th>GKPositioning</th>\n",
       "      <th>GKReflexes</th>\n",
       "      <th>Best Position</th>\n",
       "      <th>Best Overall Rating</th>\n",
       "      <th>Release Clause</th>\n",
       "      <th>DefensiveAwareness</th>\n",
       "      <th>Value_num</th>\n",
       "      <th>Wage_num</th>\n",
       "      <th>ReleaseClause_num</th>\n",
       "    </tr>\n",
       "  </thead>\n",
       "  <tbody>\n",
       "    <tr>\n",
       "      <th>0</th>\n",
       "      <td>176580</td>\n",
       "      <td>L. Suárez</td>\n",
       "      <td>32</td>\n",
       "      <td>https://cdn.sofifa.com/players/176/580/20_60.png</td>\n",
       "      <td>Uruguay</td>\n",
       "      <td>https://cdn.sofifa.com/flags/uy.png</td>\n",
       "      <td>89</td>\n",
       "      <td>89</td>\n",
       "      <td>FC Barcelona</td>\n",
       "      <td>https://cdn.sofifa.com/teams/241/light_30.png</td>\n",
       "      <td>...</td>\n",
       "      <td>31.0</td>\n",
       "      <td>33.0</td>\n",
       "      <td>37.0</td>\n",
       "      <td>ST</td>\n",
       "      <td>89.0</td>\n",
       "      <td>€108.7M</td>\n",
       "      <td>57.0</td>\n",
       "      <td>53000000.0</td>\n",
       "      <td>350000.0</td>\n",
       "      <td>108700000.0</td>\n",
       "    </tr>\n",
       "    <tr>\n",
       "      <th>1</th>\n",
       "      <td>194765</td>\n",
       "      <td>A. Griezmann</td>\n",
       "      <td>28</td>\n",
       "      <td>https://cdn.sofifa.com/players/194/765/20_60.png</td>\n",
       "      <td>France</td>\n",
       "      <td>https://cdn.sofifa.com/flags/fr.png</td>\n",
       "      <td>89</td>\n",
       "      <td>89</td>\n",
       "      <td>FC Barcelona</td>\n",
       "      <td>https://cdn.sofifa.com/teams/241/light_30.png</td>\n",
       "      <td>...</td>\n",
       "      <td>14.0</td>\n",
       "      <td>13.0</td>\n",
       "      <td>14.0</td>\n",
       "      <td>CF</td>\n",
       "      <td>89.0</td>\n",
       "      <td>€141.5M</td>\n",
       "      <td>59.0</td>\n",
       "      <td>69000000.0</td>\n",
       "      <td>370000.0</td>\n",
       "      <td>141500000.0</td>\n",
       "    </tr>\n",
       "    <tr>\n",
       "      <th>2</th>\n",
       "      <td>212198</td>\n",
       "      <td>Bruno Fernandes</td>\n",
       "      <td>24</td>\n",
       "      <td>https://cdn.sofifa.com/players/212/198/20_60.png</td>\n",
       "      <td>Portugal</td>\n",
       "      <td>https://cdn.sofifa.com/flags/pt.png</td>\n",
       "      <td>86</td>\n",
       "      <td>89</td>\n",
       "      <td>Manchester United</td>\n",
       "      <td>https://cdn.sofifa.com/teams/11/light_30.png</td>\n",
       "      <td>...</td>\n",
       "      <td>15.0</td>\n",
       "      <td>8.0</td>\n",
       "      <td>14.0</td>\n",
       "      <td>CAM</td>\n",
       "      <td>87.0</td>\n",
       "      <td>€111.6M</td>\n",
       "      <td>72.0</td>\n",
       "      <td>56500000.0</td>\n",
       "      <td>165000.0</td>\n",
       "      <td>111600000.0</td>\n",
       "    </tr>\n",
       "    <tr>\n",
       "      <th>3</th>\n",
       "      <td>192985</td>\n",
       "      <td>K. De Bruyne</td>\n",
       "      <td>28</td>\n",
       "      <td>https://cdn.sofifa.com/players/192/985/20_60.png</td>\n",
       "      <td>Belgium</td>\n",
       "      <td>https://cdn.sofifa.com/flags/be.png</td>\n",
       "      <td>91</td>\n",
       "      <td>91</td>\n",
       "      <td>Manchester City</td>\n",
       "      <td>https://cdn.sofifa.com/teams/10/light_30.png</td>\n",
       "      <td>...</td>\n",
       "      <td>5.0</td>\n",
       "      <td>10.0</td>\n",
       "      <td>13.0</td>\n",
       "      <td>CAM</td>\n",
       "      <td>91.0</td>\n",
       "      <td>€166.5M</td>\n",
       "      <td>68.0</td>\n",
       "      <td>90000000.0</td>\n",
       "      <td>370000.0</td>\n",
       "      <td>166500000.0</td>\n",
       "    </tr>\n",
       "    <tr>\n",
       "      <th>4</th>\n",
       "      <td>224334</td>\n",
       "      <td>M. Acuña</td>\n",
       "      <td>27</td>\n",
       "      <td>https://cdn.sofifa.com/players/224/334/20_60.png</td>\n",
       "      <td>Argentina</td>\n",
       "      <td>https://cdn.sofifa.com/flags/ar.png</td>\n",
       "      <td>82</td>\n",
       "      <td>82</td>\n",
       "      <td>Sporting CP</td>\n",
       "      <td>https://cdn.sofifa.com/teams/237/light_30.png</td>\n",
       "      <td>...</td>\n",
       "      <td>13.0</td>\n",
       "      <td>13.0</td>\n",
       "      <td>14.0</td>\n",
       "      <td>LB</td>\n",
       "      <td>82.0</td>\n",
       "      <td>€40M</td>\n",
       "      <td>79.0</td>\n",
       "      <td>20000000.0</td>\n",
       "      <td>19000.0</td>\n",
       "      <td>40000000.0</td>\n",
       "    </tr>\n",
       "  </tbody>\n",
       "</table>\n",
       "<p>5 rows × 68 columns</p>\n",
       "</div>"
      ],
      "text/plain": [
       "\n",
       "       ID              Name  Age  \\\n",
       "\u001b[1;36m0\u001b[0m  \u001b[1;36m176580\u001b[0m         L. Suárez   \u001b[1;36m32\u001b[0m   \n",
       "\u001b[1;36m1\u001b[0m  \u001b[1;36m194765\u001b[0m      A. Griezmann   \u001b[1;36m28\u001b[0m   \n",
       "\u001b[1;36m2\u001b[0m  \u001b[1;36m212198\u001b[0m   Bruno Fernandes   \u001b[1;36m24\u001b[0m   \n",
       "\u001b[1;36m3\u001b[0m  \u001b[1;36m192985\u001b[0m      K. De Bruyne   \u001b[1;36m28\u001b[0m   \n",
       "\u001b[1;36m4\u001b[0m  \u001b[1;36m224334\u001b[0m          M. Acuña   \u001b[1;36m27\u001b[0m   \n",
       "\n",
       "                                              Photo Nationality  \\\n",
       "\u001b[1;36m0\u001b[0m  \u001b[4;94mhttps://cdn.sofifa.com/players/176/580/20_60.png\u001b[0m     Uruguay   \n",
       "\u001b[1;36m1\u001b[0m  \u001b[4;94mhttps://cdn.sofifa.com/players/194/765/20_60.png\u001b[0m      France   \n",
       "\u001b[1;36m2\u001b[0m  \u001b[4;94mhttps://cdn.sofifa.com/players/212/198/20_60.png\u001b[0m    Portugal   \n",
       "\u001b[1;36m3\u001b[0m  \u001b[4;94mhttps://cdn.sofifa.com/players/192/985/20_60.png\u001b[0m     Belgium   \n",
       "\u001b[1;36m4\u001b[0m  \u001b[4;94mhttps://cdn.sofifa.com/players/224/334/20_60.png\u001b[0m   Argentina   \n",
       "\n",
       "                                  Flag  Overall  Potential               Club  \\\n",
       "\u001b[1;36m0\u001b[0m  \u001b[4;94mhttps://cdn.sofifa.com/flags/uy.png\u001b[0m       \u001b[1;36m89\u001b[0m         \u001b[1;36m89\u001b[0m       FC Barcelona   \n",
       "\u001b[1;36m1\u001b[0m  \u001b[4;94mhttps://cdn.sofifa.com/flags/fr.png\u001b[0m       \u001b[1;36m89\u001b[0m         \u001b[1;36m89\u001b[0m       FC Barcelona   \n",
       "\u001b[1;36m2\u001b[0m  \u001b[4;94mhttps://cdn.sofifa.com/flags/pt.png\u001b[0m       \u001b[1;36m86\u001b[0m         \u001b[1;36m89\u001b[0m  Manchester United   \n",
       "\u001b[1;36m3\u001b[0m  \u001b[4;94mhttps://cdn.sofifa.com/flags/be.png\u001b[0m       \u001b[1;36m91\u001b[0m         \u001b[1;36m91\u001b[0m    Manchester City   \n",
       "\u001b[1;36m4\u001b[0m  \u001b[4;94mhttps://cdn.sofifa.com/flags/ar.png\u001b[0m       \u001b[1;36m82\u001b[0m         \u001b[1;36m82\u001b[0m        Sporting CP   \n",
       "\n",
       "                                       Club Logo  \u001b[33m...\u001b[0m GKKicking GKPositioning  \\\n",
       "\u001b[1;36m0\u001b[0m  \u001b[4;94mhttps://cdn.sofifa.com/teams/241/light_30.png\u001b[0m  \u001b[33m...\u001b[0m      \u001b[1;36m31.0\u001b[0m          \u001b[1;36m33.0\u001b[0m   \n",
       "\u001b[1;36m1\u001b[0m  \u001b[4;94mhttps://cdn.sofifa.com/teams/241/light_30.png\u001b[0m  \u001b[33m...\u001b[0m      \u001b[1;36m14.0\u001b[0m          \u001b[1;36m13.0\u001b[0m   \n",
       "\u001b[1;36m2\u001b[0m   \u001b[4;94mhttps://cdn.sofifa.com/teams/11/light_30.png\u001b[0m  \u001b[33m...\u001b[0m      \u001b[1;36m15.0\u001b[0m           \u001b[1;36m8.0\u001b[0m   \n",
       "\u001b[1;36m3\u001b[0m   \u001b[4;94mhttps://cdn.sofifa.com/teams/10/light_30.png\u001b[0m  \u001b[33m...\u001b[0m       \u001b[1;36m5.0\u001b[0m          \u001b[1;36m10.0\u001b[0m   \n",
       "\u001b[1;36m4\u001b[0m  \u001b[4;94mhttps://cdn.sofifa.com/teams/237/light_30.png\u001b[0m  \u001b[33m...\u001b[0m      \u001b[1;36m13.0\u001b[0m          \u001b[1;36m13.0\u001b[0m   \n",
       "\n",
       "   GKReflexes Best Position  Best Overall Rating  Release Clause  \\\n",
       "\u001b[1;36m0\u001b[0m        \u001b[1;36m37.0\u001b[0m            ST                 \u001b[1;36m89.0\u001b[0m         €\u001b[1;36m108.\u001b[0m7M   \n",
       "\u001b[1;36m1\u001b[0m        \u001b[1;36m14.0\u001b[0m            CF                 \u001b[1;36m89.0\u001b[0m         €\u001b[1;36m141.\u001b[0m5M   \n",
       "\u001b[1;36m2\u001b[0m        \u001b[1;36m14.0\u001b[0m           CAM                 \u001b[1;36m87.0\u001b[0m         €\u001b[1;36m111.\u001b[0m6M   \n",
       "\u001b[1;36m3\u001b[0m        \u001b[1;36m13.0\u001b[0m           CAM                 \u001b[1;36m91.0\u001b[0m         €\u001b[1;36m166.\u001b[0m5M   \n",
       "\u001b[1;36m4\u001b[0m        \u001b[1;36m14.0\u001b[0m            LB                 \u001b[1;36m82.0\u001b[0m            €40M   \n",
       "\n",
       "   DefensiveAwareness   Value_num  Wage_num ReleaseClause_num  \n",
       "\u001b[1;36m0\u001b[0m                \u001b[1;36m57.0\u001b[0m  \u001b[1;36m53000000.0\u001b[0m  \u001b[1;36m350000.0\u001b[0m       \u001b[1;36m108700000.0\u001b[0m  \n",
       "\u001b[1;36m1\u001b[0m                \u001b[1;36m59.0\u001b[0m  \u001b[1;36m69000000.0\u001b[0m  \u001b[1;36m370000.0\u001b[0m       \u001b[1;36m141500000.0\u001b[0m  \n",
       "\u001b[1;36m2\u001b[0m                \u001b[1;36m72.0\u001b[0m  \u001b[1;36m56500000.0\u001b[0m  \u001b[1;36m165000.0\u001b[0m       \u001b[1;36m111600000.0\u001b[0m  \n",
       "\u001b[1;36m3\u001b[0m                \u001b[1;36m68.0\u001b[0m  \u001b[1;36m90000000.0\u001b[0m  \u001b[1;36m370000.0\u001b[0m       \u001b[1;36m166500000.0\u001b[0m  \n",
       "\u001b[1;36m4\u001b[0m                \u001b[1;36m79.0\u001b[0m  \u001b[1;36m20000000.0\u001b[0m   \u001b[1;36m19000.0\u001b[0m        \u001b[1;36m40000000.0\u001b[0m  \n",
       "\n",
       "\u001b[1m[\u001b[0m\u001b[1;36m5\u001b[0m rows x \u001b[1;36m68\u001b[0m columns\u001b[1m]\u001b[0m"
      ]
     },
     "execution_count": 8,
     "metadata": {},
     "output_type": "execute_result"
    }
   ],
   "source": [
    "FIFA20_dfpr.head()"
   ]
  }
 ],
 "metadata": {
  "kernelspec": {
   "display_name": "Python 3 (ipykernel)",
   "language": "python",
   "name": "python3"
  },
  "language_info": {
   "codemirror_mode": {
    "name": "ipython",
    "version": 3
   },
   "file_extension": ".py",
   "mimetype": "text/x-python",
   "name": "python",
   "nbconvert_exporter": "python",
   "pygments_lexer": "ipython3",
   "version": "3.11.9"
  }
 },
 "nbformat": 4,
 "nbformat_minor": 5
}
