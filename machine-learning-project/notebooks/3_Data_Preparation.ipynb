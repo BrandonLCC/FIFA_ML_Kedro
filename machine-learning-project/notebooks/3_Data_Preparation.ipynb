{
 "cells": [
  {
   "cell_type": "markdown",
   "id": "37a3e979-54a0-4217-a395-e4a966052d7c",
   "metadata": {},
   "source": [
    "# Data Preparation\n",
    "\n",
    "Tareas por realizar en la etapa de preparacion:\n",
    "\n",
    "- Seleccion de datos relevantes\n",
    "- limpieza de los datos (missing values, outliers)\n",
    "- Construir nuevas variables (feature engineering)\n",
    "- Integrar datos de múltiples fuentes\n",
    "- Formatear y transformar datos"
   ]
  },
  {
   "cell_type": "code",
   "execution_count": null,
   "id": "0c45e232-5d5f-4cb4-9879-eed5f1121bee",
   "metadata": {},
   "outputs": [],
   "source": []
  }
 ],
 "metadata": {
  "kernelspec": {
   "display_name": "Python 3 (ipykernel)",
   "language": "python",
   "name": "python3"
  },
  "language_info": {
   "codemirror_mode": {
    "name": "ipython",
    "version": 3
   },
   "file_extension": ".py",
   "mimetype": "text/x-python",
   "name": "python",
   "nbconvert_exporter": "python",
   "pygments_lexer": "ipython3",
   "version": "3.11.9"
  }
 },
 "nbformat": 4,
 "nbformat_minor": 5
}
