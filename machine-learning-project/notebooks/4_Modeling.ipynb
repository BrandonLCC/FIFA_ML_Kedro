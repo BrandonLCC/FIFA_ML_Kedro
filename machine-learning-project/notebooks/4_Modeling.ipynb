{
 "cells": [
  {
   "cell_type": "code",
   "execution_count": null,
   "id": "708141fe-fbe3-40ba-8228-cd1f69fb7f4f",
   "metadata": {},
   "outputs": [],
   "source": []
  },
  {
   "cell_type": "code",
   "execution_count": 1,
   "id": "93b9fa63-ae11-4d7d-b067-c06347eb2af2",
   "metadata": {
    "scrolled": true
   },
   "outputs": [
    {
     "data": {
      "text/html": [
       "<pre style=\"white-space:pre;overflow-x:auto;line-height:normal;font-family:Menlo,'DejaVu Sans Mono',consolas,'Courier New',monospace\"><span style=\"color: #7fbfbf; text-decoration-color: #7fbfbf\">[10/23/25 01:22:09] </span><span style=\"color: #000080; text-decoration-color: #000080\">INFO    </span> Using                                                                  <a href=\"file://C:\\Users\\brand\\Downloads\\Proyecto_ML_Kedro\\machine-learning-project\\.venv\\Lib\\site-packages\\kedro\\framework\\project\\__init__.py\" target=\"_blank\"><span style=\"color: #7f7f7f; text-decoration-color: #7f7f7f\">__init__.py</span></a><span style=\"color: #7f7f7f; text-decoration-color: #7f7f7f\">:</span><a href=\"file://C:\\Users\\brand\\Downloads\\Proyecto_ML_Kedro\\machine-learning-project\\.venv\\Lib\\site-packages\\kedro\\framework\\project\\__init__.py#270\" target=\"_blank\"><span style=\"color: #7f7f7f; text-decoration-color: #7f7f7f\">270</span></a>\n",
       "<span style=\"color: #7fbfbf; text-decoration-color: #7fbfbf\">                    </span>         <span style=\"color: #008000; text-decoration-color: #008000\">'C:\\Users\\brand\\Downloads\\Proyecto_ML_Kedro\\machine-learning-project\\.</span> <span style=\"color: #7f7f7f; text-decoration-color: #7f7f7f\">               </span>\n",
       "<span style=\"color: #7fbfbf; text-decoration-color: #7fbfbf\">                    </span>         <span style=\"color: #008000; text-decoration-color: #008000\">venv\\Lib\\site-packages\\kedro\\framework\\project\\rich_logging.yml'</span> as    <span style=\"color: #7f7f7f; text-decoration-color: #7f7f7f\">               </span>\n",
       "<span style=\"color: #7fbfbf; text-decoration-color: #7fbfbf\">                    </span>         logging configuration.                                                 <span style=\"color: #7f7f7f; text-decoration-color: #7f7f7f\">               </span>\n",
       "</pre>\n"
      ],
      "text/plain": [
       "\u001b[2;36m[10/23/25 01:22:09]\u001b[0m\u001b[2;36m \u001b[0m\u001b[34mINFO    \u001b[0m Using                                                                  \u001b]8;id=568044;file://C:\\Users\\brand\\Downloads\\Proyecto_ML_Kedro\\machine-learning-project\\.venv\\Lib\\site-packages\\kedro\\framework\\project\\__init__.py\u001b\\\u001b[2m__init__.py\u001b[0m\u001b]8;;\u001b\\\u001b[2m:\u001b[0m\u001b]8;id=510569;file://C:\\Users\\brand\\Downloads\\Proyecto_ML_Kedro\\machine-learning-project\\.venv\\Lib\\site-packages\\kedro\\framework\\project\\__init__.py#270\u001b\\\u001b[2m270\u001b[0m\u001b]8;;\u001b\\\n",
       "\u001b[2;36m                    \u001b[0m         \u001b[32m'C:\\Users\\brand\\Downloads\\Proyecto_ML_Kedro\\machine-learning-project\\.\u001b[0m \u001b[2m               \u001b[0m\n",
       "\u001b[2;36m                    \u001b[0m         \u001b[32mvenv\\Lib\\site-packages\\kedro\\framework\\project\\rich_logging.yml'\u001b[0m as    \u001b[2m               \u001b[0m\n",
       "\u001b[2;36m                    \u001b[0m         logging configuration.                                                 \u001b[2m               \u001b[0m\n"
      ]
     },
     "metadata": {},
     "output_type": "display_data"
    },
    {
     "data": {
      "text/html": [
       "<pre style=\"white-space:pre;overflow-x:auto;line-height:normal;font-family:Menlo,'DejaVu Sans Mono',consolas,'Courier New',monospace\"><span style=\"color: #7fbfbf; text-decoration-color: #7fbfbf\">                    </span><span style=\"color: #000080; text-decoration-color: #000080\">INFO    </span> Registered line magic <span style=\"color: #008000; text-decoration-color: #008000\">'%reload_kedro'</span>                                   <a href=\"file://C:\\Users\\brand\\Downloads\\Proyecto_ML_Kedro\\machine-learning-project\\.venv\\Lib\\site-packages\\kedro\\ipython\\__init__.py\" target=\"_blank\"><span style=\"color: #7f7f7f; text-decoration-color: #7f7f7f\">__init__.py</span></a><span style=\"color: #7f7f7f; text-decoration-color: #7f7f7f\">:</span><a href=\"file://C:\\Users\\brand\\Downloads\\Proyecto_ML_Kedro\\machine-learning-project\\.venv\\Lib\\site-packages\\kedro\\ipython\\__init__.py#63\" target=\"_blank\"><span style=\"color: #7f7f7f; text-decoration-color: #7f7f7f\">63</span></a>\n",
       "</pre>\n"
      ],
      "text/plain": [
       "\u001b[2;36m                   \u001b[0m\u001b[2;36m \u001b[0m\u001b[34mINFO    \u001b[0m Registered line magic \u001b[32m'%reload_kedro'\u001b[0m                                   \u001b]8;id=290557;file://C:\\Users\\brand\\Downloads\\Proyecto_ML_Kedro\\machine-learning-project\\.venv\\Lib\\site-packages\\kedro\\ipython\\__init__.py\u001b\\\u001b[2m__init__.py\u001b[0m\u001b]8;;\u001b\\\u001b[2m:\u001b[0m\u001b]8;id=705076;file://C:\\Users\\brand\\Downloads\\Proyecto_ML_Kedro\\machine-learning-project\\.venv\\Lib\\site-packages\\kedro\\ipython\\__init__.py#63\u001b\\\u001b[2m63\u001b[0m\u001b]8;;\u001b\\\n"
      ]
     },
     "metadata": {},
     "output_type": "display_data"
    },
    {
     "data": {
      "text/html": [
       "<pre style=\"white-space:pre;overflow-x:auto;line-height:normal;font-family:Menlo,'DejaVu Sans Mono',consolas,'Courier New',monospace\"><span style=\"color: #7fbfbf; text-decoration-color: #7fbfbf\">                    </span><span style=\"color: #000080; text-decoration-color: #000080\">INFO    </span> Registered line magic <span style=\"color: #008000; text-decoration-color: #008000\">'%load_node'</span>                                      <a href=\"file://C:\\Users\\brand\\Downloads\\Proyecto_ML_Kedro\\machine-learning-project\\.venv\\Lib\\site-packages\\kedro\\ipython\\__init__.py\" target=\"_blank\"><span style=\"color: #7f7f7f; text-decoration-color: #7f7f7f\">__init__.py</span></a><span style=\"color: #7f7f7f; text-decoration-color: #7f7f7f\">:</span><a href=\"file://C:\\Users\\brand\\Downloads\\Proyecto_ML_Kedro\\machine-learning-project\\.venv\\Lib\\site-packages\\kedro\\ipython\\__init__.py#65\" target=\"_blank\"><span style=\"color: #7f7f7f; text-decoration-color: #7f7f7f\">65</span></a>\n",
       "</pre>\n"
      ],
      "text/plain": [
       "\u001b[2;36m                   \u001b[0m\u001b[2;36m \u001b[0m\u001b[34mINFO    \u001b[0m Registered line magic \u001b[32m'%load_node'\u001b[0m                                      \u001b]8;id=296291;file://C:\\Users\\brand\\Downloads\\Proyecto_ML_Kedro\\machine-learning-project\\.venv\\Lib\\site-packages\\kedro\\ipython\\__init__.py\u001b\\\u001b[2m__init__.py\u001b[0m\u001b]8;;\u001b\\\u001b[2m:\u001b[0m\u001b]8;id=86270;file://C:\\Users\\brand\\Downloads\\Proyecto_ML_Kedro\\machine-learning-project\\.venv\\Lib\\site-packages\\kedro\\ipython\\__init__.py#65\u001b\\\u001b[2m65\u001b[0m\u001b]8;;\u001b\\\n"
      ]
     },
     "metadata": {},
     "output_type": "display_data"
    },
    {
     "data": {
      "text/html": [
       "<pre style=\"white-space:pre;overflow-x:auto;line-height:normal;font-family:Menlo,'DejaVu Sans Mono',consolas,'Courier New',monospace\"><span style=\"color: #7fbfbf; text-decoration-color: #7fbfbf\">                    </span><span style=\"color: #000080; text-decoration-color: #000080\">INFO    </span> Resolved project path as:                                              <a href=\"file://C:\\Users\\brand\\Downloads\\Proyecto_ML_Kedro\\machine-learning-project\\.venv\\Lib\\site-packages\\kedro\\ipython\\__init__.py\" target=\"_blank\"><span style=\"color: #7f7f7f; text-decoration-color: #7f7f7f\">__init__.py</span></a><span style=\"color: #7f7f7f; text-decoration-color: #7f7f7f\">:</span><a href=\"file://C:\\Users\\brand\\Downloads\\Proyecto_ML_Kedro\\machine-learning-project\\.venv\\Lib\\site-packages\\kedro\\ipython\\__init__.py#180\" target=\"_blank\"><span style=\"color: #7f7f7f; text-decoration-color: #7f7f7f\">180</span></a>\n",
       "<span style=\"color: #7fbfbf; text-decoration-color: #7fbfbf\">                    </span>         C:\\Users\\brand\\Downloads\\Proyecto_ML_Kedro\\machine-learning-project.   <span style=\"color: #7f7f7f; text-decoration-color: #7f7f7f\">               </span>\n",
       "<span style=\"color: #7fbfbf; text-decoration-color: #7fbfbf\">                    </span>         To set a different path, run <span style=\"color: #008000; text-decoration-color: #008000\">'%reload_kedro &lt;project_root&gt;'</span>            <span style=\"color: #7f7f7f; text-decoration-color: #7f7f7f\">               </span>\n",
       "</pre>\n"
      ],
      "text/plain": [
       "\u001b[2;36m                   \u001b[0m\u001b[2;36m \u001b[0m\u001b[34mINFO    \u001b[0m Resolved project path as:                                              \u001b]8;id=868332;file://C:\\Users\\brand\\Downloads\\Proyecto_ML_Kedro\\machine-learning-project\\.venv\\Lib\\site-packages\\kedro\\ipython\\__init__.py\u001b\\\u001b[2m__init__.py\u001b[0m\u001b]8;;\u001b\\\u001b[2m:\u001b[0m\u001b]8;id=612960;file://C:\\Users\\brand\\Downloads\\Proyecto_ML_Kedro\\machine-learning-project\\.venv\\Lib\\site-packages\\kedro\\ipython\\__init__.py#180\u001b\\\u001b[2m180\u001b[0m\u001b]8;;\u001b\\\n",
       "\u001b[2;36m                    \u001b[0m         C:\\Users\\brand\\Downloads\\Proyecto_ML_Kedro\\machine-learning-project.   \u001b[2m               \u001b[0m\n",
       "\u001b[2;36m                    \u001b[0m         To set a different path, run \u001b[32m'%reload_kedro \u001b[0m\u001b[32m<\u001b[0m\u001b[32mproject_root\u001b[0m\u001b[32m>\u001b[0m\u001b[32m'\u001b[0m            \u001b[2m               \u001b[0m\n"
      ]
     },
     "metadata": {},
     "output_type": "display_data"
    },
    {
     "data": {
      "text/html": [
       "<pre style=\"white-space:pre;overflow-x:auto;line-height:normal;font-family:Menlo,'DejaVu Sans Mono',consolas,'Courier New',monospace\"><span style=\"color: #7fbfbf; text-decoration-color: #7fbfbf\">[10/23/25 01:22:12] </span><span style=\"color: #000080; text-decoration-color: #000080\">INFO    </span> Kedro is sending anonymous usage data with the sole purpose of improving <a href=\"file://C:\\Users\\brand\\Downloads\\Proyecto_ML_Kedro\\machine-learning-project\\.venv\\Lib\\site-packages\\kedro_telemetry\\plugin.py\" target=\"_blank\"><span style=\"color: #7f7f7f; text-decoration-color: #7f7f7f\">plugin.py</span></a><span style=\"color: #7f7f7f; text-decoration-color: #7f7f7f\">:</span><a href=\"file://C:\\Users\\brand\\Downloads\\Proyecto_ML_Kedro\\machine-learning-project\\.venv\\Lib\\site-packages\\kedro_telemetry\\plugin.py#243\" target=\"_blank\"><span style=\"color: #7f7f7f; text-decoration-color: #7f7f7f\">243</span></a>\n",
       "<span style=\"color: #7fbfbf; text-decoration-color: #7fbfbf\">                    </span>         the product. No personal data or IP addresses are stored on our side. To <span style=\"color: #7f7f7f; text-decoration-color: #7f7f7f\">             </span>\n",
       "<span style=\"color: #7fbfbf; text-decoration-color: #7fbfbf\">                    </span>         opt out, set the `KEDRO_DISABLE_TELEMETRY` or `DO_NOT_TRACK` environment <span style=\"color: #7f7f7f; text-decoration-color: #7f7f7f\">             </span>\n",
       "<span style=\"color: #7fbfbf; text-decoration-color: #7fbfbf\">                    </span>         variables, or create a `.telemetry` file in the current working          <span style=\"color: #7f7f7f; text-decoration-color: #7f7f7f\">             </span>\n",
       "<span style=\"color: #7fbfbf; text-decoration-color: #7fbfbf\">                    </span>         directory with the contents `consent: false`. To hide this message,      <span style=\"color: #7f7f7f; text-decoration-color: #7f7f7f\">             </span>\n",
       "<span style=\"color: #7fbfbf; text-decoration-color: #7fbfbf\">                    </span>         explicitly grant or deny consent. Read more at                           <span style=\"color: #7f7f7f; text-decoration-color: #7f7f7f\">             </span>\n",
       "<span style=\"color: #7fbfbf; text-decoration-color: #7fbfbf\">                    </span>         <span style=\"color: #0000ff; text-decoration-color: #0000ff; text-decoration: underline\">https://docs.kedro.org/en/stable/configuration/telemetry.html</span>            <span style=\"color: #7f7f7f; text-decoration-color: #7f7f7f\">             </span>\n",
       "</pre>\n"
      ],
      "text/plain": [
       "\u001b[2;36m[10/23/25 01:22:12]\u001b[0m\u001b[2;36m \u001b[0m\u001b[34mINFO    \u001b[0m Kedro is sending anonymous usage data with the sole purpose of improving \u001b]8;id=250937;file://C:\\Users\\brand\\Downloads\\Proyecto_ML_Kedro\\machine-learning-project\\.venv\\Lib\\site-packages\\kedro_telemetry\\plugin.py\u001b\\\u001b[2mplugin.py\u001b[0m\u001b]8;;\u001b\\\u001b[2m:\u001b[0m\u001b]8;id=709941;file://C:\\Users\\brand\\Downloads\\Proyecto_ML_Kedro\\machine-learning-project\\.venv\\Lib\\site-packages\\kedro_telemetry\\plugin.py#243\u001b\\\u001b[2m243\u001b[0m\u001b]8;;\u001b\\\n",
       "\u001b[2;36m                    \u001b[0m         the product. No personal data or IP addresses are stored on our side. To \u001b[2m             \u001b[0m\n",
       "\u001b[2;36m                    \u001b[0m         opt out, set the `KEDRO_DISABLE_TELEMETRY` or `DO_NOT_TRACK` environment \u001b[2m             \u001b[0m\n",
       "\u001b[2;36m                    \u001b[0m         variables, or create a `.telemetry` file in the current working          \u001b[2m             \u001b[0m\n",
       "\u001b[2;36m                    \u001b[0m         directory with the contents `consent: false`. To hide this message,      \u001b[2m             \u001b[0m\n",
       "\u001b[2;36m                    \u001b[0m         explicitly grant or deny consent. Read more at                           \u001b[2m             \u001b[0m\n",
       "\u001b[2;36m                    \u001b[0m         \u001b[4;94mhttps://docs.kedro.org/en/stable/configuration/telemetry.html\u001b[0m            \u001b[2m             \u001b[0m\n"
      ]
     },
     "metadata": {},
     "output_type": "display_data"
    },
    {
     "data": {
      "text/html": [
       "<pre style=\"white-space:pre;overflow-x:auto;line-height:normal;font-family:Menlo,'DejaVu Sans Mono',consolas,'Courier New',monospace\"><span style=\"color: #7fbfbf; text-decoration-color: #7fbfbf\">[10/23/25 01:22:13] </span><span style=\"color: #000080; text-decoration-color: #000080\">INFO    </span> Kedro project machine_learning_project                                 <a href=\"file://C:\\Users\\brand\\Downloads\\Proyecto_ML_Kedro\\machine-learning-project\\.venv\\Lib\\site-packages\\kedro\\ipython\\__init__.py\" target=\"_blank\"><span style=\"color: #7f7f7f; text-decoration-color: #7f7f7f\">__init__.py</span></a><span style=\"color: #7f7f7f; text-decoration-color: #7f7f7f\">:</span><a href=\"file://C:\\Users\\brand\\Downloads\\Proyecto_ML_Kedro\\machine-learning-project\\.venv\\Lib\\site-packages\\kedro\\ipython\\__init__.py#146\" target=\"_blank\"><span style=\"color: #7f7f7f; text-decoration-color: #7f7f7f\">146</span></a>\n",
       "</pre>\n"
      ],
      "text/plain": [
       "\u001b[2;36m[10/23/25 01:22:13]\u001b[0m\u001b[2;36m \u001b[0m\u001b[34mINFO    \u001b[0m Kedro project machine_learning_project                                 \u001b]8;id=238093;file://C:\\Users\\brand\\Downloads\\Proyecto_ML_Kedro\\machine-learning-project\\.venv\\Lib\\site-packages\\kedro\\ipython\\__init__.py\u001b\\\u001b[2m__init__.py\u001b[0m\u001b]8;;\u001b\\\u001b[2m:\u001b[0m\u001b]8;id=689604;file://C:\\Users\\brand\\Downloads\\Proyecto_ML_Kedro\\machine-learning-project\\.venv\\Lib\\site-packages\\kedro\\ipython\\__init__.py#146\u001b\\\u001b[2m146\u001b[0m\u001b]8;;\u001b\\\n"
      ]
     },
     "metadata": {},
     "output_type": "display_data"
    },
    {
     "data": {
      "text/html": [
       "<pre style=\"white-space:pre;overflow-x:auto;line-height:normal;font-family:Menlo,'DejaVu Sans Mono',consolas,'Courier New',monospace\"><span style=\"color: #7fbfbf; text-decoration-color: #7fbfbf\">                    </span><span style=\"color: #000080; text-decoration-color: #000080\">INFO    </span> Defined global variable <span style=\"color: #008000; text-decoration-color: #008000\">'context'</span>, <span style=\"color: #008000; text-decoration-color: #008000\">'session'</span>, <span style=\"color: #008000; text-decoration-color: #008000\">'catalog'</span> and            <a href=\"file://C:\\Users\\brand\\Downloads\\Proyecto_ML_Kedro\\machine-learning-project\\.venv\\Lib\\site-packages\\kedro\\ipython\\__init__.py\" target=\"_blank\"><span style=\"color: #7f7f7f; text-decoration-color: #7f7f7f\">__init__.py</span></a><span style=\"color: #7f7f7f; text-decoration-color: #7f7f7f\">:</span><a href=\"file://C:\\Users\\brand\\Downloads\\Proyecto_ML_Kedro\\machine-learning-project\\.venv\\Lib\\site-packages\\kedro\\ipython\\__init__.py#147\" target=\"_blank\"><span style=\"color: #7f7f7f; text-decoration-color: #7f7f7f\">147</span></a>\n",
       "<span style=\"color: #7fbfbf; text-decoration-color: #7fbfbf\">                    </span>         <span style=\"color: #008000; text-decoration-color: #008000\">'pipelines'</span>                                                            <span style=\"color: #7f7f7f; text-decoration-color: #7f7f7f\">               </span>\n",
       "</pre>\n"
      ],
      "text/plain": [
       "\u001b[2;36m                   \u001b[0m\u001b[2;36m \u001b[0m\u001b[34mINFO    \u001b[0m Defined global variable \u001b[32m'context'\u001b[0m, \u001b[32m'session'\u001b[0m, \u001b[32m'catalog'\u001b[0m and            \u001b]8;id=85702;file://C:\\Users\\brand\\Downloads\\Proyecto_ML_Kedro\\machine-learning-project\\.venv\\Lib\\site-packages\\kedro\\ipython\\__init__.py\u001b\\\u001b[2m__init__.py\u001b[0m\u001b]8;;\u001b\\\u001b[2m:\u001b[0m\u001b]8;id=200525;file://C:\\Users\\brand\\Downloads\\Proyecto_ML_Kedro\\machine-learning-project\\.venv\\Lib\\site-packages\\kedro\\ipython\\__init__.py#147\u001b\\\u001b[2m147\u001b[0m\u001b]8;;\u001b\\\n",
       "\u001b[2;36m                    \u001b[0m         \u001b[32m'pipelines'\u001b[0m                                                            \u001b[2m               \u001b[0m\n"
      ]
     },
     "metadata": {},
     "output_type": "display_data"
    },
    {
     "data": {
      "text/html": [
       "<pre style=\"white-space:pre;overflow-x:auto;line-height:normal;font-family:Menlo,'DejaVu Sans Mono',consolas,'Courier New',monospace\"><span style=\"color: #7fbfbf; text-decoration-color: #7fbfbf\">                    </span><span style=\"color: #000080; text-decoration-color: #000080\">INFO    </span> Registered line magic <span style=\"color: #008000; text-decoration-color: #008000\">'run_viz'</span>                                        <a href=\"file://C:\\Users\\brand\\Downloads\\Proyecto_ML_Kedro\\machine-learning-project\\.venv\\Lib\\site-packages\\kedro\\ipython\\__init__.py\" target=\"_blank\"><span style=\"color: #7f7f7f; text-decoration-color: #7f7f7f\">__init__.py</span></a><span style=\"color: #7f7f7f; text-decoration-color: #7f7f7f\">:</span><a href=\"file://C:\\Users\\brand\\Downloads\\Proyecto_ML_Kedro\\machine-learning-project\\.venv\\Lib\\site-packages\\kedro\\ipython\\__init__.py#153\" target=\"_blank\"><span style=\"color: #7f7f7f; text-decoration-color: #7f7f7f\">153</span></a>\n",
       "</pre>\n"
      ],
      "text/plain": [
       "\u001b[2;36m                   \u001b[0m\u001b[2;36m \u001b[0m\u001b[34mINFO    \u001b[0m Registered line magic \u001b[32m'run_viz'\u001b[0m                                        \u001b]8;id=761196;file://C:\\Users\\brand\\Downloads\\Proyecto_ML_Kedro\\machine-learning-project\\.venv\\Lib\\site-packages\\kedro\\ipython\\__init__.py\u001b\\\u001b[2m__init__.py\u001b[0m\u001b]8;;\u001b\\\u001b[2m:\u001b[0m\u001b]8;id=440472;file://C:\\Users\\brand\\Downloads\\Proyecto_ML_Kedro\\machine-learning-project\\.venv\\Lib\\site-packages\\kedro\\ipython\\__init__.py#153\u001b\\\u001b[2m153\u001b[0m\u001b]8;;\u001b\\\n"
      ]
     },
     "metadata": {},
     "output_type": "display_data"
    }
   ],
   "source": [
    "%load_ext kedro.ipython "
   ]
  },
  {
   "cell_type": "code",
   "execution_count": 3,
   "id": "fa7a37f9-6ca0-40d5-8f81-9778d55beae0",
   "metadata": {},
   "outputs": [
    {
     "data": {
      "text/html": [
       "<pre style=\"white-space:pre;overflow-x:auto;line-height:normal;font-family:Menlo,'DejaVu Sans Mono',consolas,'Courier New',monospace\"></pre>\n"
      ],
      "text/plain": []
     },
     "metadata": {},
     "output_type": "display_data"
    },
    {
     "data": {
      "text/plain": [
       "\n",
       "\u001b[1m[\u001b[0m\n",
       "    \u001b[32m'DataSetFIFA22'\u001b[0m,\n",
       "    \u001b[32m'DataSetFIFA21'\u001b[0m,\n",
       "    \u001b[32m'DataSetFIFA20'\u001b[0m,\n",
       "    \u001b[32m'preprocess_fifa_22'\u001b[0m,\n",
       "    \u001b[32m'preprocess_fifa_21'\u001b[0m,\n",
       "    \u001b[32m'preprocess_fifa_20'\u001b[0m,\n",
       "    \u001b[32m'model_input_table'\u001b[0m,\n",
       "    \u001b[32m'parameters'\u001b[0m\n",
       "\u001b[1m]\u001b[0m"
      ]
     },
     "execution_count": 3,
     "metadata": {},
     "output_type": "execute_result"
    }
   ],
   "source": [
    "catalog.keys()"
   ]
  },
  {
   "cell_type": "code",
   "execution_count": 4,
   "id": "6f9b8689-9d87-4077-b0bf-707d65f53dd8",
   "metadata": {},
   "outputs": [
    {
     "data": {
      "text/html": [
       "<pre style=\"white-space:pre;overflow-x:auto;line-height:normal;font-family:Menlo,'DejaVu Sans Mono',consolas,'Courier New',monospace\"><span style=\"color: #7fbfbf; text-decoration-color: #7fbfbf\">[10/23/25 01:22:41] </span><span style=\"color: #000080; text-decoration-color: #000080\">INFO    </span> Loading data from <span style=\"color: #ff8700; text-decoration-color: #ff8700\">model_input_table</span> <span style=\"font-weight: bold\">(</span>ParquetDataset<span style=\"font-weight: bold\">)</span><span style=\"color: #808000; text-decoration-color: #808000\">...</span>           <a href=\"file://C:\\Users\\brand\\Downloads\\Proyecto_ML_Kedro\\machine-learning-project\\.venv\\Lib\\site-packages\\kedro\\io\\data_catalog.py\" target=\"_blank\"><span style=\"color: #7f7f7f; text-decoration-color: #7f7f7f\">data_catalog.py</span></a><span style=\"color: #7f7f7f; text-decoration-color: #7f7f7f\">:</span><a href=\"file://C:\\Users\\brand\\Downloads\\Proyecto_ML_Kedro\\machine-learning-project\\.venv\\Lib\\site-packages\\kedro\\io\\data_catalog.py#1046\" target=\"_blank\"><span style=\"color: #7f7f7f; text-decoration-color: #7f7f7f\">1046</span></a>\n",
       "</pre>\n"
      ],
      "text/plain": [
       "\u001b[2;36m[10/23/25 01:22:41]\u001b[0m\u001b[2;36m \u001b[0m\u001b[34mINFO    \u001b[0m Loading data from \u001b[38;5;208mmodel_input_table\u001b[0m \u001b[1m(\u001b[0mParquetDataset\u001b[1m)\u001b[0m\u001b[33m...\u001b[0m           \u001b]8;id=723845;file://C:\\Users\\brand\\Downloads\\Proyecto_ML_Kedro\\machine-learning-project\\.venv\\Lib\\site-packages\\kedro\\io\\data_catalog.py\u001b\\\u001b[2mdata_catalog.py\u001b[0m\u001b]8;;\u001b\\\u001b[2m:\u001b[0m\u001b]8;id=828303;file://C:\\Users\\brand\\Downloads\\Proyecto_ML_Kedro\\machine-learning-project\\.venv\\Lib\\site-packages\\kedro\\io\\data_catalog.py#1046\u001b\\\u001b[2m1046\u001b[0m\u001b]8;;\u001b\\\n"
      ]
     },
     "metadata": {},
     "output_type": "display_data"
    },
    {
     "data": {
      "text/html": [
       "<pre style=\"white-space:pre;overflow-x:auto;line-height:normal;font-family:Menlo,'DejaVu Sans Mono',consolas,'Courier New',monospace\"></pre>\n"
      ],
      "text/plain": []
     },
     "metadata": {},
     "output_type": "display_data"
    },
    {
     "data": {
      "text/html": [
       "<div>\n",
       "<style scoped>\n",
       "    .dataframe tbody tr th:only-of-type {\n",
       "        vertical-align: middle;\n",
       "    }\n",
       "\n",
       "    .dataframe tbody tr th {\n",
       "        vertical-align: top;\n",
       "    }\n",
       "\n",
       "    .dataframe thead th {\n",
       "        text-align: right;\n",
       "    }\n",
       "</style>\n",
       "<table border=\"1\" class=\"dataframe\">\n",
       "  <thead>\n",
       "    <tr style=\"text-align: right;\">\n",
       "      <th></th>\n",
       "      <th>Name</th>\n",
       "      <th>Age</th>\n",
       "      <th>Nationality</th>\n",
       "      <th>Overall</th>\n",
       "      <th>Potential</th>\n",
       "      <th>Club</th>\n",
       "      <th>Special</th>\n",
       "      <th>Preferred Foot</th>\n",
       "      <th>International Reputation</th>\n",
       "      <th>Weak Foot</th>\n",
       "      <th>...</th>\n",
       "      <th>Overall_Class</th>\n",
       "      <th>Joined_Year</th>\n",
       "      <th>Joined_Month</th>\n",
       "      <th>Joined_Day</th>\n",
       "      <th>Height_cm</th>\n",
       "      <th>Weight_kg</th>\n",
       "      <th>Value_num</th>\n",
       "      <th>Wage_num</th>\n",
       "      <th>Release Clause_num</th>\n",
       "      <th>Year</th>\n",
       "    </tr>\n",
       "  </thead>\n",
       "  <tbody>\n",
       "    <tr>\n",
       "      <th>0</th>\n",
       "      <td>Bruno Fernandes</td>\n",
       "      <td>26</td>\n",
       "      <td>Portugal</td>\n",
       "      <td>88</td>\n",
       "      <td>89</td>\n",
       "      <td>Manchester United</td>\n",
       "      <td>2341</td>\n",
       "      <td>Right</td>\n",
       "      <td>3.0</td>\n",
       "      <td>3.0</td>\n",
       "      <td>...</td>\n",
       "      <td>Alto</td>\n",
       "      <td>0</td>\n",
       "      <td>0</td>\n",
       "      <td>0</td>\n",
       "      <td>179</td>\n",
       "      <td>69.000000</td>\n",
       "      <td>107500000.0</td>\n",
       "      <td>250000.0</td>\n",
       "      <td>206900000.0</td>\n",
       "      <td>2022</td>\n",
       "    </tr>\n",
       "    <tr>\n",
       "      <th>1</th>\n",
       "      <td>L. Goretzka</td>\n",
       "      <td>26</td>\n",
       "      <td>Germany</td>\n",
       "      <td>87</td>\n",
       "      <td>88</td>\n",
       "      <td>FC Bayern München</td>\n",
       "      <td>2314</td>\n",
       "      <td>Right</td>\n",
       "      <td>4.0</td>\n",
       "      <td>4.0</td>\n",
       "      <td>...</td>\n",
       "      <td>Alto</td>\n",
       "      <td>0</td>\n",
       "      <td>0</td>\n",
       "      <td>0</td>\n",
       "      <td>189</td>\n",
       "      <td>82.000000</td>\n",
       "      <td>93000000.0</td>\n",
       "      <td>140000.0</td>\n",
       "      <td>160400000.0</td>\n",
       "      <td>2022</td>\n",
       "    </tr>\n",
       "    <tr>\n",
       "      <th>2</th>\n",
       "      <td>L. Suárez</td>\n",
       "      <td>34</td>\n",
       "      <td>Uruguay</td>\n",
       "      <td>88</td>\n",
       "      <td>88</td>\n",
       "      <td>Atlético de Madrid</td>\n",
       "      <td>2307</td>\n",
       "      <td>Right</td>\n",
       "      <td>5.0</td>\n",
       "      <td>4.0</td>\n",
       "      <td>...</td>\n",
       "      <td>Alto</td>\n",
       "      <td>0</td>\n",
       "      <td>0</td>\n",
       "      <td>0</td>\n",
       "      <td>182</td>\n",
       "      <td>83.000000</td>\n",
       "      <td>44500000.0</td>\n",
       "      <td>135000.0</td>\n",
       "      <td>91200000.0</td>\n",
       "      <td>2022</td>\n",
       "    </tr>\n",
       "    <tr>\n",
       "      <th>3</th>\n",
       "      <td>M. Acuña</td>\n",
       "      <td>29</td>\n",
       "      <td>Argentina</td>\n",
       "      <td>84</td>\n",
       "      <td>84</td>\n",
       "      <td>Sevilla FC</td>\n",
       "      <td>2292</td>\n",
       "      <td>Left</td>\n",
       "      <td>2.0</td>\n",
       "      <td>3.0</td>\n",
       "      <td>...</td>\n",
       "      <td>Medio</td>\n",
       "      <td>0</td>\n",
       "      <td>0</td>\n",
       "      <td>0</td>\n",
       "      <td>172</td>\n",
       "      <td>69.000000</td>\n",
       "      <td>37000000.0</td>\n",
       "      <td>45000.0</td>\n",
       "      <td>77700000.0</td>\n",
       "      <td>2022</td>\n",
       "    </tr>\n",
       "    <tr>\n",
       "      <th>4</th>\n",
       "      <td>J. Kimmich</td>\n",
       "      <td>26</td>\n",
       "      <td>Germany</td>\n",
       "      <td>89</td>\n",
       "      <td>90</td>\n",
       "      <td>FC Bayern München</td>\n",
       "      <td>2283</td>\n",
       "      <td>Right</td>\n",
       "      <td>4.0</td>\n",
       "      <td>4.0</td>\n",
       "      <td>...</td>\n",
       "      <td>Alto</td>\n",
       "      <td>0</td>\n",
       "      <td>0</td>\n",
       "      <td>0</td>\n",
       "      <td>177</td>\n",
       "      <td>75.000000</td>\n",
       "      <td>108000000.0</td>\n",
       "      <td>160000.0</td>\n",
       "      <td>186300000.0</td>\n",
       "      <td>2022</td>\n",
       "    </tr>\n",
       "    <tr>\n",
       "      <th>...</th>\n",
       "      <td>...</td>\n",
       "      <td>...</td>\n",
       "      <td>...</td>\n",
       "      <td>...</td>\n",
       "      <td>...</td>\n",
       "      <td>...</td>\n",
       "      <td>...</td>\n",
       "      <td>...</td>\n",
       "      <td>...</td>\n",
       "      <td>...</td>\n",
       "      <td>...</td>\n",
       "      <td>...</td>\n",
       "      <td>...</td>\n",
       "      <td>...</td>\n",
       "      <td>...</td>\n",
       "      <td>...</td>\n",
       "      <td>...</td>\n",
       "      <td>...</td>\n",
       "      <td>...</td>\n",
       "      <td>...</td>\n",
       "      <td>...</td>\n",
       "    </tr>\n",
       "    <tr>\n",
       "      <th>50521</th>\n",
       "      <td>V. Storsve</td>\n",
       "      <td>17</td>\n",
       "      <td>Norway</td>\n",
       "      <td>50</td>\n",
       "      <td>72</td>\n",
       "      <td>Lillestrøm SK</td>\n",
       "      <td>773</td>\n",
       "      <td>Right</td>\n",
       "      <td>1.0</td>\n",
       "      <td>2.0</td>\n",
       "      <td>...</td>\n",
       "      <td>Bajo</td>\n",
       "      <td>0</td>\n",
       "      <td>0</td>\n",
       "      <td>0</td>\n",
       "      <td>185</td>\n",
       "      <td>64.863656</td>\n",
       "      <td>50000.0</td>\n",
       "      <td>5000.0</td>\n",
       "      <td>113000.0</td>\n",
       "      <td>2020</td>\n",
       "    </tr>\n",
       "    <tr>\n",
       "      <th>50522</th>\n",
       "      <td>B. Sinzig</td>\n",
       "      <td>19</td>\n",
       "      <td>Switzerland</td>\n",
       "      <td>50</td>\n",
       "      <td>60</td>\n",
       "      <td>Neuchâtel Xamax</td>\n",
       "      <td>764</td>\n",
       "      <td>Right</td>\n",
       "      <td>1.0</td>\n",
       "      <td>2.0</td>\n",
       "      <td>...</td>\n",
       "      <td>Bajo</td>\n",
       "      <td>0</td>\n",
       "      <td>0</td>\n",
       "      <td>0</td>\n",
       "      <td>190</td>\n",
       "      <td>81.192968</td>\n",
       "      <td>35000.0</td>\n",
       "      <td>5000.0</td>\n",
       "      <td>58000.0</td>\n",
       "      <td>2020</td>\n",
       "    </tr>\n",
       "    <tr>\n",
       "      <th>50523</th>\n",
       "      <td>18 N. Krucker</td>\n",
       "      <td>18</td>\n",
       "      <td>Switzerland</td>\n",
       "      <td>50</td>\n",
       "      <td>61</td>\n",
       "      <td>FC St. Gallen</td>\n",
       "      <td>757</td>\n",
       "      <td>Right</td>\n",
       "      <td>1.0</td>\n",
       "      <td>3.0</td>\n",
       "      <td>...</td>\n",
       "      <td>Bajo</td>\n",
       "      <td>0</td>\n",
       "      <td>0</td>\n",
       "      <td>0</td>\n",
       "      <td>183</td>\n",
       "      <td>79.832192</td>\n",
       "      <td>35000.0</td>\n",
       "      <td>1000.0</td>\n",
       "      <td>66000.0</td>\n",
       "      <td>2020</td>\n",
       "    </tr>\n",
       "    <tr>\n",
       "      <th>50524</th>\n",
       "      <td>18 A. Viscovo</td>\n",
       "      <td>18</td>\n",
       "      <td>Italy</td>\n",
       "      <td>51</td>\n",
       "      <td>70</td>\n",
       "      <td>Crotone</td>\n",
       "      <td>755</td>\n",
       "      <td>Right</td>\n",
       "      <td>1.0</td>\n",
       "      <td>2.0</td>\n",
       "      <td>...</td>\n",
       "      <td>Bajo</td>\n",
       "      <td>0</td>\n",
       "      <td>0</td>\n",
       "      <td>0</td>\n",
       "      <td>190</td>\n",
       "      <td>78.925008</td>\n",
       "      <td>60000.0</td>\n",
       "      <td>5000.0</td>\n",
       "      <td>146000.0</td>\n",
       "      <td>2020</td>\n",
       "    </tr>\n",
       "    <tr>\n",
       "      <th>50525</th>\n",
       "      <td>H. Sveijer</td>\n",
       "      <td>17</td>\n",
       "      <td>Sweden</td>\n",
       "      <td>48</td>\n",
       "      <td>63</td>\n",
       "      <td>IK Sirius</td>\n",
       "      <td>740</td>\n",
       "      <td>Right</td>\n",
       "      <td>1.0</td>\n",
       "      <td>2.0</td>\n",
       "      <td>...</td>\n",
       "      <td>Bajo</td>\n",
       "      <td>0</td>\n",
       "      <td>0</td>\n",
       "      <td>0</td>\n",
       "      <td>185</td>\n",
       "      <td>76.203456</td>\n",
       "      <td>50000.0</td>\n",
       "      <td>5000.0</td>\n",
       "      <td>94000.0</td>\n",
       "      <td>2020</td>\n",
       "    </tr>\n",
       "  </tbody>\n",
       "</table>\n",
       "<p>50526 rows × 65 columns</p>\n",
       "</div>"
      ],
      "text/plain": [
       "\n",
       "                  Name  Age  Nationality  Overall  Potential  \\\n",
       "\u001b[1;36m0\u001b[0m      Bruno Fernandes   \u001b[1;36m26\u001b[0m     Portugal       \u001b[1;36m88\u001b[0m         \u001b[1;36m89\u001b[0m   \n",
       "\u001b[1;36m1\u001b[0m          L. Goretzka   \u001b[1;36m26\u001b[0m      Germany       \u001b[1;36m87\u001b[0m         \u001b[1;36m88\u001b[0m   \n",
       "\u001b[1;36m2\u001b[0m            L. Suárez   \u001b[1;36m34\u001b[0m      Uruguay       \u001b[1;36m88\u001b[0m         \u001b[1;36m88\u001b[0m   \n",
       "\u001b[1;36m3\u001b[0m             M. Acuña   \u001b[1;36m29\u001b[0m    Argentina       \u001b[1;36m84\u001b[0m         \u001b[1;36m84\u001b[0m   \n",
       "\u001b[1;36m4\u001b[0m           J. Kimmich   \u001b[1;36m26\u001b[0m      Germany       \u001b[1;36m89\u001b[0m         \u001b[1;36m90\u001b[0m   \n",
       "\u001b[33m...\u001b[0m                \u001b[33m...\u001b[0m  \u001b[33m...\u001b[0m          \u001b[33m...\u001b[0m      \u001b[33m...\u001b[0m        \u001b[33m...\u001b[0m   \n",
       "\u001b[1;36m50521\u001b[0m       V. Storsve   \u001b[1;36m17\u001b[0m       Norway       \u001b[1;36m50\u001b[0m         \u001b[1;36m72\u001b[0m   \n",
       "\u001b[1;36m50522\u001b[0m        B. Sinzig   \u001b[1;36m19\u001b[0m  Switzerland       \u001b[1;36m50\u001b[0m         \u001b[1;36m60\u001b[0m   \n",
       "\u001b[1;36m50523\u001b[0m    \u001b[1;36m18\u001b[0m N. Krucker   \u001b[1;36m18\u001b[0m  Switzerland       \u001b[1;36m50\u001b[0m         \u001b[1;36m61\u001b[0m   \n",
       "\u001b[1;36m50524\u001b[0m    \u001b[1;36m18\u001b[0m A. Viscovo   \u001b[1;36m18\u001b[0m        Italy       \u001b[1;36m51\u001b[0m         \u001b[1;36m70\u001b[0m   \n",
       "\u001b[1;36m50525\u001b[0m       H. Sveijer   \u001b[1;36m17\u001b[0m       Sweden       \u001b[1;36m48\u001b[0m         \u001b[1;36m63\u001b[0m   \n",
       "\n",
       "                     Club  Special Preferred Foot  International Reputation  \\\n",
       "\u001b[1;36m0\u001b[0m       Manchester United     \u001b[1;36m2341\u001b[0m          Right                       \u001b[1;36m3.0\u001b[0m   \n",
       "\u001b[1;36m1\u001b[0m       FC Bayern München     \u001b[1;36m2314\u001b[0m          Right                       \u001b[1;36m4.0\u001b[0m   \n",
       "\u001b[1;36m2\u001b[0m      Atlético de Madrid     \u001b[1;36m2307\u001b[0m          Right                       \u001b[1;36m5.0\u001b[0m   \n",
       "\u001b[1;36m3\u001b[0m              Sevilla FC     \u001b[1;36m2292\u001b[0m           Left                       \u001b[1;36m2.0\u001b[0m   \n",
       "\u001b[1;36m4\u001b[0m       FC Bayern München     \u001b[1;36m2283\u001b[0m          Right                       \u001b[1;36m4.0\u001b[0m   \n",
       "\u001b[33m...\u001b[0m                   \u001b[33m...\u001b[0m      \u001b[33m...\u001b[0m            \u001b[33m...\u001b[0m                       \u001b[33m...\u001b[0m   \n",
       "\u001b[1;36m50521\u001b[0m       Lillestrøm SK      \u001b[1;36m773\u001b[0m          Right                       \u001b[1;36m1.0\u001b[0m   \n",
       "\u001b[1;36m50522\u001b[0m     Neuchâtel Xamax      \u001b[1;36m764\u001b[0m          Right                       \u001b[1;36m1.0\u001b[0m   \n",
       "\u001b[1;36m50523\u001b[0m       FC St. Gallen      \u001b[1;36m757\u001b[0m          Right                       \u001b[1;36m1.0\u001b[0m   \n",
       "\u001b[1;36m50524\u001b[0m             Crotone      \u001b[1;36m755\u001b[0m          Right                       \u001b[1;36m1.0\u001b[0m   \n",
       "\u001b[1;36m50525\u001b[0m           IK Sirius      \u001b[1;36m740\u001b[0m          Right                       \u001b[1;36m1.0\u001b[0m   \n",
       "\n",
       "       Weak Foot  \u001b[33m...\u001b[0m  Overall_Class Joined_Year Joined_Month Joined_Day  \\\n",
       "\u001b[1;36m0\u001b[0m            \u001b[1;36m3.0\u001b[0m  \u001b[33m...\u001b[0m           Alto           \u001b[1;36m0\u001b[0m            \u001b[1;36m0\u001b[0m          \u001b[1;36m0\u001b[0m   \n",
       "\u001b[1;36m1\u001b[0m            \u001b[1;36m4.0\u001b[0m  \u001b[33m...\u001b[0m           Alto           \u001b[1;36m0\u001b[0m            \u001b[1;36m0\u001b[0m          \u001b[1;36m0\u001b[0m   \n",
       "\u001b[1;36m2\u001b[0m            \u001b[1;36m4.0\u001b[0m  \u001b[33m...\u001b[0m           Alto           \u001b[1;36m0\u001b[0m            \u001b[1;36m0\u001b[0m          \u001b[1;36m0\u001b[0m   \n",
       "\u001b[1;36m3\u001b[0m            \u001b[1;36m3.0\u001b[0m  \u001b[33m...\u001b[0m          Medio           \u001b[1;36m0\u001b[0m            \u001b[1;36m0\u001b[0m          \u001b[1;36m0\u001b[0m   \n",
       "\u001b[1;36m4\u001b[0m            \u001b[1;36m4.0\u001b[0m  \u001b[33m...\u001b[0m           Alto           \u001b[1;36m0\u001b[0m            \u001b[1;36m0\u001b[0m          \u001b[1;36m0\u001b[0m   \n",
       "\u001b[33m...\u001b[0m          \u001b[33m...\u001b[0m  \u001b[33m...\u001b[0m            \u001b[33m...\u001b[0m         \u001b[33m...\u001b[0m          \u001b[33m...\u001b[0m        \u001b[33m...\u001b[0m   \n",
       "\u001b[1;36m50521\u001b[0m        \u001b[1;36m2.0\u001b[0m  \u001b[33m...\u001b[0m           Bajo           \u001b[1;36m0\u001b[0m            \u001b[1;36m0\u001b[0m          \u001b[1;36m0\u001b[0m   \n",
       "\u001b[1;36m50522\u001b[0m        \u001b[1;36m2.0\u001b[0m  \u001b[33m...\u001b[0m           Bajo           \u001b[1;36m0\u001b[0m            \u001b[1;36m0\u001b[0m          \u001b[1;36m0\u001b[0m   \n",
       "\u001b[1;36m50523\u001b[0m        \u001b[1;36m3.0\u001b[0m  \u001b[33m...\u001b[0m           Bajo           \u001b[1;36m0\u001b[0m            \u001b[1;36m0\u001b[0m          \u001b[1;36m0\u001b[0m   \n",
       "\u001b[1;36m50524\u001b[0m        \u001b[1;36m2.0\u001b[0m  \u001b[33m...\u001b[0m           Bajo           \u001b[1;36m0\u001b[0m            \u001b[1;36m0\u001b[0m          \u001b[1;36m0\u001b[0m   \n",
       "\u001b[1;36m50525\u001b[0m        \u001b[1;36m2.0\u001b[0m  \u001b[33m...\u001b[0m           Bajo           \u001b[1;36m0\u001b[0m            \u001b[1;36m0\u001b[0m          \u001b[1;36m0\u001b[0m   \n",
       "\n",
       "       Height_cm  Weight_kg    Value_num  Wage_num  Release Clause_num  Year  \n",
       "\u001b[1;36m0\u001b[0m            \u001b[1;36m179\u001b[0m  \u001b[1;36m69.000000\u001b[0m  \u001b[1;36m107500000.0\u001b[0m  \u001b[1;36m250000.0\u001b[0m         \u001b[1;36m206900000.0\u001b[0m  \u001b[1;36m2022\u001b[0m  \n",
       "\u001b[1;36m1\u001b[0m            \u001b[1;36m189\u001b[0m  \u001b[1;36m82.000000\u001b[0m   \u001b[1;36m93000000.0\u001b[0m  \u001b[1;36m140000.0\u001b[0m         \u001b[1;36m160400000.0\u001b[0m  \u001b[1;36m2022\u001b[0m  \n",
       "\u001b[1;36m2\u001b[0m            \u001b[1;36m182\u001b[0m  \u001b[1;36m83.000000\u001b[0m   \u001b[1;36m44500000.0\u001b[0m  \u001b[1;36m135000.0\u001b[0m          \u001b[1;36m91200000.0\u001b[0m  \u001b[1;36m2022\u001b[0m  \n",
       "\u001b[1;36m3\u001b[0m            \u001b[1;36m172\u001b[0m  \u001b[1;36m69.000000\u001b[0m   \u001b[1;36m37000000.0\u001b[0m   \u001b[1;36m45000.0\u001b[0m          \u001b[1;36m77700000.0\u001b[0m  \u001b[1;36m2022\u001b[0m  \n",
       "\u001b[1;36m4\u001b[0m            \u001b[1;36m177\u001b[0m  \u001b[1;36m75.000000\u001b[0m  \u001b[1;36m108000000.0\u001b[0m  \u001b[1;36m160000.0\u001b[0m         \u001b[1;36m186300000.0\u001b[0m  \u001b[1;36m2022\u001b[0m  \n",
       "\u001b[33m...\u001b[0m          \u001b[33m...\u001b[0m        \u001b[33m...\u001b[0m          \u001b[33m...\u001b[0m       \u001b[33m...\u001b[0m                 \u001b[33m...\u001b[0m   \u001b[33m...\u001b[0m  \n",
       "\u001b[1;36m50521\u001b[0m        \u001b[1;36m185\u001b[0m  \u001b[1;36m64.863656\u001b[0m      \u001b[1;36m50000.0\u001b[0m    \u001b[1;36m5000.0\u001b[0m            \u001b[1;36m113000.0\u001b[0m  \u001b[1;36m2020\u001b[0m  \n",
       "\u001b[1;36m50522\u001b[0m        \u001b[1;36m190\u001b[0m  \u001b[1;36m81.192968\u001b[0m      \u001b[1;36m35000.0\u001b[0m    \u001b[1;36m5000.0\u001b[0m             \u001b[1;36m58000.0\u001b[0m  \u001b[1;36m2020\u001b[0m  \n",
       "\u001b[1;36m50523\u001b[0m        \u001b[1;36m183\u001b[0m  \u001b[1;36m79.832192\u001b[0m      \u001b[1;36m35000.0\u001b[0m    \u001b[1;36m1000.0\u001b[0m             \u001b[1;36m66000.0\u001b[0m  \u001b[1;36m2020\u001b[0m  \n",
       "\u001b[1;36m50524\u001b[0m        \u001b[1;36m190\u001b[0m  \u001b[1;36m78.925008\u001b[0m      \u001b[1;36m60000.0\u001b[0m    \u001b[1;36m5000.0\u001b[0m            \u001b[1;36m146000.0\u001b[0m  \u001b[1;36m2020\u001b[0m  \n",
       "\u001b[1;36m50525\u001b[0m        \u001b[1;36m185\u001b[0m  \u001b[1;36m76.203456\u001b[0m      \u001b[1;36m50000.0\u001b[0m    \u001b[1;36m5000.0\u001b[0m             \u001b[1;36m94000.0\u001b[0m  \u001b[1;36m2020\u001b[0m  \n",
       "\n",
       "\u001b[1m[\u001b[0m\u001b[1;36m50526\u001b[0m rows x \u001b[1;36m65\u001b[0m columns\u001b[1m]\u001b[0m"
      ]
     },
     "execution_count": 4,
     "metadata": {},
     "output_type": "execute_result"
    }
   ],
   "source": [
    "catalog.load(\"model_input_table\")"
   ]
  },
  {
   "cell_type": "code",
   "execution_count": null,
   "id": "d001afac-f451-4716-bcf2-cf90b31ea38f",
   "metadata": {},
   "outputs": [],
   "source": [
    "df_FIFA = catalog.load(\"model_input_table\")"
   ]
  },
  {
   "cell_type": "markdown",
   "id": "8f3c9d76-abb5-428e-b857-e035dea0f13e",
   "metadata": {},
   "source": [
    "## TITULO DEL MODELO \n",
    "\n",
    "descripcion"
   ]
  },
  {
   "cell_type": "code",
   "execution_count": null,
   "id": "16fbb57c-54f5-4ee2-ac3d-ceb2ca33bfa2",
   "metadata": {},
   "outputs": [],
   "source": []
  },
  {
   "cell_type": "markdown",
   "id": "e60ea08c-7f40-4307-babf-28dced4dde2c",
   "metadata": {},
   "source": [
    "### **GridSearchCV** "
   ]
  },
  {
   "cell_type": "code",
   "execution_count": null,
   "id": "86dff81e-8b4d-4bc9-940a-8feb7c17ef7b",
   "metadata": {},
   "outputs": [],
   "source": []
  },
  {
   "cell_type": "markdown",
   "id": "801f3a9b-6a7a-4873-b5bd-6980e0813033",
   "metadata": {},
   "source": [
    "### **CrossValidation** "
   ]
  },
  {
   "cell_type": "code",
   "execution_count": null,
   "id": "def241e1-f056-4c82-922f-86dcdeb384fa",
   "metadata": {},
   "outputs": [],
   "source": []
  },
  {
   "cell_type": "markdown",
   "id": "50168c63-26ac-4a7e-afff-c99b24bf8976",
   "metadata": {},
   "source": [
    "Referencias "
   ]
  },
  {
   "cell_type": "markdown",
   "id": "76cba68f-d0d0-4fe7-afe4-ec2e8fa807f7",
   "metadata": {},
   "source": [
    "[Repositorio-Giocrisrai](https://github.com/Giocrisrai?page=2&tab=repositories)\t"
   ]
  }
 ],
 "metadata": {
  "kernelspec": {
   "display_name": "Python 3 (ipykernel)",
   "language": "python",
   "name": "python3"
  },
  "language_info": {
   "codemirror_mode": {
    "name": "ipython",
    "version": 3
   },
   "file_extension": ".py",
   "mimetype": "text/x-python",
   "name": "python",
   "nbconvert_exporter": "python",
   "pygments_lexer": "ipython3",
   "version": "3.11.9"
  }
 },
 "nbformat": 4,
 "nbformat_minor": 5
}
