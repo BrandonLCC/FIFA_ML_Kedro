{
 "cells": [
  {
   "cell_type": "markdown",
   "id": "5e5c8611-0ee8-4e0a-a6ed-23b5770208ca",
   "metadata": {},
   "source": [
    "en SVR SI en los hiperparamtros tiene el solver, puede que demore mucho el modelo \n",
    "\n",
    "en la clasificacion no usar el liblinear por problemas de fallas"
   ]
  }
 ],
 "metadata": {
  "kernelspec": {
   "display_name": "Python 3 (ipykernel)",
   "language": "python",
   "name": "python3"
  },
  "language_info": {
   "codemirror_mode": {
    "name": "ipython",
    "version": 3
   },
   "file_extension": ".py",
   "mimetype": "text/x-python",
   "name": "python",
   "nbconvert_exporter": "python",
   "pygments_lexer": "ipython3",
   "version": "3.11.9"
  }
 },
 "nbformat": 4,
 "nbformat_minor": 5
}
